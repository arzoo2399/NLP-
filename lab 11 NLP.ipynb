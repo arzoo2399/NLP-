{
 "cells": [
  {
   "cell_type": "code",
   "execution_count": 1,
   "metadata": {
    "id": "cMJWc-ggWYB3"
   },
   "outputs": [],
   "source": [
    "import nltk,re,pprint\n",
    "from nltk.tree import Tree\n",
    "from nltk.tokenize import word_tokenize\n",
    "import numpy as npt"
   ]
  },
  {
   "cell_type": "markdown",
   "metadata": {
    "id": "SekK-3aYJ5yr"
   },
   "source": [
    "**Exercise 1**"
   ]
  },
  {
   "cell_type": "code",
   "execution_count": 2,
   "metadata": {
    "colab": {
     "base_uri": "https://localhost:8080/"
    },
    "id": "6xKSIAqQJ4aJ",
    "outputId": "79bb2185-7da1-42c2-8a96-b78bafb84a8f"
   },
   "outputs": [
    {
     "name": "stdout",
     "output_type": "stream",
     "text": [
      "  NP \n",
      "  |   \n",
      "  N  \n",
      "  |   \n",
      "Marge\n",
      "\n"
     ]
    }
   ],
   "source": [
    "np =nltk.Tree.fromstring('(NP (N Marge))')\n",
    "np.pretty_print()"
   ]
  },
  {
   "cell_type": "code",
   "execution_count": 3,
   "metadata": {
    "colab": {
     "base_uri": "https://localhost:8080/"
    },
    "id": "ghUavPEo3ccG",
    "outputId": "d211f9a3-5d4c-454d-fff4-c1af949b5bb1"
   },
   "outputs": [
    {
     "name": "stdout",
     "output_type": "stream",
     "text": [
      "          VP             \n",
      "  ________|___            \n",
      " |            NP         \n",
      " |     _______|_____      \n",
      " V   DET      N     N    \n",
      " |    |       |     |     \n",
      "make  a      ham sandwich\n",
      "\n"
     ]
    }
   ],
   "source": [
    "vp = nltk.Tree.fromstring('(VP (V make) (NP (DET a) (N ham) (N sandwich)))') \n",
    "vp.pretty_print()"
   ]
  },
  {
   "cell_type": "code",
   "execution_count": 4,
   "metadata": {
    "colab": {
     "base_uri": "https://localhost:8080/"
    },
    "id": "vCurtBnoEJEq",
    "outputId": "ef757bf3-c206-4ce3-f819-d37d0dc832d3"
   },
   "outputs": [
    {
     "name": "stdout",
     "output_type": "stream",
     "text": [
      "AUX \n",
      " |   \n",
      "will\n",
      "\n"
     ]
    }
   ],
   "source": [
    "aux= nltk.Tree.fromstring('(AUX will)')\n",
    "aux.pretty_print()"
   ]
  },
  {
   "cell_type": "markdown",
   "metadata": {
    "id": "M-06POiZWlOj"
   },
   "source": [
    "**Excercise 2**"
   ]
  },
  {
   "cell_type": "code",
   "execution_count": 5,
   "metadata": {
    "id": "kNEWvbEgypJO"
   },
   "outputs": [
    {
     "name": "stdout",
     "output_type": "stream",
     "text": [
      "         NP           \n",
      "  _______|___          \n",
      " |           NP       \n",
      " |    _______|_____    \n",
      "Adj  N      Conj   N  \n",
      " |   |       |     |   \n",
      "old men     and  women\n",
      "\n"
     ]
    }
   ],
   "source": [
    "sent = nltk.Tree.fromstring('(NP (Adj old) (NP (N men) (Conj and) (N women)))')\n",
    "sent.pretty_print()"
   ]
  },
  {
   "cell_type": "markdown",
   "metadata": {
    "id": "Z2NR6FjMJ-3_"
   },
   "source": [
    "**Exercise 3**"
   ]
  },
  {
   "cell_type": "code",
   "execution_count": 6,
   "metadata": {
    "colab": {
     "base_uri": "https://localhost:8080/"
    },
    "id": "zZHbwRgPEWFT",
    "outputId": "f7457d73-56e2-459b-eea0-3ea00d8cddf6"
   },
   "outputs": [
    {
     "name": "stdout",
     "output_type": "stream",
     "text": [
      "            S                       \n",
      "   _________|________                \n",
      "  |    |             VP             \n",
      "  |    |     ________|___            \n",
      "  NP   |    |            NP         \n",
      "  |    |    |     _______|_____      \n",
      "  N   AUX   V   DET      N     N    \n",
      "  |    |    |    |       |     |     \n",
      "Marge will make  a      ham sandwich\n",
      "\n"
     ]
    }
   ],
   "source": [
    "s1 = nltk.Tree.fromstring('(S (NP (N Marge)) (AUX will) (VP (V make) (NP (DET a) (N ham) (N sandwich))))')\n",
    "s1.pretty_print()"
   ]
  },
  {
   "cell_type": "code",
   "execution_count": 7,
   "metadata": {
    "colab": {
     "base_uri": "https://localhost:8080/"
    },
    "id": "v0UbC6_JGZVf",
    "outputId": "2ea473aa-9a53-41dd-8293-fd67c682b96e"
   },
   "outputs": [
    {
     "name": "stdout",
     "output_type": "stream",
     "text": [
      "            S                       \n",
      "  __________|________                \n",
      " |     |             VP             \n",
      " |     |     ________|___            \n",
      " |     NP   |            NP         \n",
      " |     |    |     _______|_____      \n",
      "AUX    N    V   DET      N     N    \n",
      " |     |    |    |       |     |     \n",
      "will Marge make  a      ham sandwich\n",
      "\n"
     ]
    }
   ],
   "source": [
    "s2 = nltk.Tree.fromstring('(S (AUX will) (NP (N Marge)) (VP (V make) (NP (DET a) (N ham) (N sandwich))))')\n",
    "s2.pretty_print()"
   ]
  },
  {
   "cell_type": "markdown",
   "metadata": {
    "id": "u4dHyQAfKEoh"
   },
   "source": [
    "**Exercise 4**"
   ]
  },
  {
   "cell_type": "code",
   "execution_count": 8,
   "metadata": {
    "colab": {
     "base_uri": "https://localhost:8080/"
    },
    "id": "uEMf5YJ7G8Kc",
    "outputId": "01016574-4064-4209-ec54-237c6705ee99"
   },
   "outputs": [
    {
     "name": "stdout",
     "output_type": "stream",
     "text": [
      "           S               \n",
      "   ________|___             \n",
      "  |            VP          \n",
      "  |     _______|___         \n",
      "  NP   |           NP      \n",
      "  |    |        ___|____    \n",
      "  N    V      DET       N  \n",
      "  |    |       |        |   \n",
      "Homer ate     the     donut\n",
      "\n"
     ]
    }
   ],
   "source": [
    "s3 = nltk.Tree.fromstring('(S (NP (N Homer)) (VP (V ate) (NP (DET the) (N donut))))')\n",
    "s3.pretty_print()"
   ]
  },
  {
   "cell_type": "markdown",
   "metadata": {
    "id": "bXia1mwtYsj8"
   },
   "source": [
    "**Exercise 5**"
   ]
  },
  {
   "cell_type": "code",
   "execution_count": 9,
   "metadata": {
    "colab": {
     "base_uri": "https://localhost:8080/"
    },
    "id": "E8S7BQY1Yw8L",
    "outputId": "b179fa6d-5ec8-4a92-a7e2-c9b1d1b7222c"
   },
   "outputs": [
    {
     "name": "stdout",
     "output_type": "stream",
     "text": [
      "         S                      \n",
      "      ___|________               \n",
      "     |            VP            \n",
      "     |        ____|___           \n",
      "     |       |        PP        \n",
      "     |       |     ___|_____     \n",
      "     NP      VP   |         NP  \n",
      "  ___|___    |    |         |    \n",
      "DET ADJ  N   V    P         N   \n",
      " |   |   |   |    |         |    \n",
      " my old cat died  on     Tuesday\n",
      "\n"
     ]
    }
   ],
   "source": [
    "s4 = nltk.Tree.fromstring('(S (NP (DET my)(ADJ old)(N cat))(VP(VP(V died))(PP(P on)(NP(N Tuesday)))))')\n",
    "s4.pretty_print()"
   ]
  },
  {
   "cell_type": "code",
   "execution_count": 10,
   "metadata": {
    "colab": {
     "base_uri": "https://localhost:8080/"
    },
    "id": "V1QG7ENzaPet",
    "outputId": "7893ccb9-fd8a-47e3-880c-926f8a5bfcae"
   },
   "outputs": [
    {
     "name": "stdout",
     "output_type": "stream",
     "text": [
      "                        S                                 \n",
      "    ____________________|_______                           \n",
      "   |      |                     VP                        \n",
      "   |      |     ________________|__________                \n",
      "   |      |    |        PP                 PP             \n",
      "   |      |    |     ___|___          _____|____           \n",
      "   NP     |    VP   |       NP       |          NP        \n",
      "   |      |    |    |    ___|___     |      ____|_____     \n",
      "   N     AUX   V    P  DET      N    P    DET         N   \n",
      "   |      |    |    |   |       |    |     |          |    \n",
      "children must play  in the     park with their     friends\n",
      "\n"
     ]
    }
   ],
   "source": [
    "s5 = nltk.Tree.fromstring('(S(NP (N children))(AUX must)(VP(VP(V play))(PP(P in)(NP(DET the)(N park)))(PP (P with)(NP (DET their)(N friends)))))')\n",
    "s5.pretty_print()"
   ]
  },
  {
   "cell_type": "markdown",
   "metadata": {
    "id": "T58hfMdZKY-4"
   },
   "source": [
    "**Exercise 6**\n",
    "\n"
   ]
  },
  {
   "cell_type": "code",
   "execution_count": 11,
   "metadata": {
    "colab": {
     "base_uri": "https://localhost:8080/"
    },
    "id": "k4noCeA0JDVs",
    "outputId": "0890052d-cb4d-4a15-9a48-312d0951caa7"
   },
   "outputs": [
    {
     "name": "stdout",
     "output_type": "stream",
     "text": [
      "(VP (V make) (NP (DET a) (N ham) (N sandwich)))\n"
     ]
    }
   ],
   "source": [
    "print(vp) #this is from exercise 1"
   ]
  },
  {
   "cell_type": "code",
   "execution_count": 12,
   "metadata": {
    "colab": {
     "base_uri": "https://localhost:8080/"
    },
    "id": "4Ew12nLKKyYY",
    "outputId": "46e15505-61a0-46f1-fd09-c71a69ab7ea4"
   },
   "outputs": [
    {
     "data": {
      "text/plain": [
       "[VP -> V NP,\n",
       " V -> 'make',\n",
       " NP -> DET N N,\n",
       " DET -> 'a',\n",
       " N -> 'ham',\n",
       " N -> 'sandwich']"
      ]
     },
     "execution_count": 12,
     "metadata": {},
     "output_type": "execute_result"
    }
   ],
   "source": [
    "vp_rules = vp.productions()\n",
    "vp_rules"
   ]
  },
  {
   "cell_type": "code",
   "execution_count": 13,
   "metadata": {
    "colab": {
     "base_uri": "https://localhost:8080/"
    },
    "id": "vVPtcOzYLBWF",
    "outputId": "a0d5e3da-f4bc-4218-cb61-a49bf71ed4cf"
   },
   "outputs": [
    {
     "data": {
      "text/plain": [
       "VP -> V NP"
      ]
     },
     "execution_count": 13,
     "metadata": {},
     "output_type": "execute_result"
    }
   ],
   "source": [
    "vp_rules[0]"
   ]
  },
  {
   "cell_type": "code",
   "execution_count": 14,
   "metadata": {
    "colab": {
     "base_uri": "https://localhost:8080/"
    },
    "id": "WTI9chXurgB2",
    "outputId": "225a025d-9e21-495a-9c75-710068d09859"
   },
   "outputs": [
    {
     "data": {
      "text/plain": [
       "V -> 'make'"
      ]
     },
     "execution_count": 14,
     "metadata": {},
     "output_type": "execute_result"
    }
   ],
   "source": [
    "vp_rules[1]"
   ]
  },
  {
   "cell_type": "code",
   "execution_count": 15,
   "metadata": {
    "colab": {
     "base_uri": "https://localhost:8080/"
    },
    "id": "c_ycI6Vrri9L",
    "outputId": "d1a5c26a-b817-4efd-d628-61c96fd263b3"
   },
   "outputs": [
    {
     "data": {
      "text/plain": [
       "False"
      ]
     },
     "execution_count": 15,
     "metadata": {},
     "output_type": "execute_result"
    }
   ],
   "source": [
    "vp_rules[0].is_lexical()"
   ]
  },
  {
   "cell_type": "code",
   "execution_count": 16,
   "metadata": {
    "colab": {
     "base_uri": "https://localhost:8080/"
    },
    "id": "Ro92kP8Arl3I",
    "outputId": "0350df6f-0cd0-4e6b-d61e-b5f84aeb6141"
   },
   "outputs": [
    {
     "data": {
      "text/plain": [
       "False"
      ]
     },
     "execution_count": 16,
     "metadata": {},
     "output_type": "execute_result"
    }
   ],
   "source": [
    "vp_rules[0].is_lexical()"
   ]
  },
  {
   "cell_type": "markdown",
   "metadata": {
    "id": "bg1jPYIAsklf"
   },
   "source": [
    "##### Explore the CF rules of s5"
   ]
  },
  {
   "cell_type": "code",
   "execution_count": 17,
   "metadata": {
    "colab": {
     "base_uri": "https://localhost:8080/"
    },
    "id": "y42o2HYOrq33",
    "outputId": "e61d556a-05fe-45c8-8a3f-bdf2128420ac"
   },
   "outputs": [
    {
     "name": "stdout",
     "output_type": "stream",
     "text": [
      "(S\n",
      "  (NP (N children))\n",
      "  (AUX must)\n",
      "  (VP\n",
      "    (VP (V play))\n",
      "    (PP (P in) (NP (DET the) (N park)))\n",
      "    (PP (P with) (NP (DET their) (N friends)))))\n"
     ]
    }
   ],
   "source": [
    "print(s5)"
   ]
  },
  {
   "cell_type": "code",
   "execution_count": 18,
   "metadata": {
    "colab": {
     "base_uri": "https://localhost:8080/"
    },
    "id": "q8eSg68WsxF6",
    "outputId": "369fa916-9f03-451f-c77f-7fe1842fda26"
   },
   "outputs": [
    {
     "data": {
      "text/plain": [
       "[S -> NP AUX VP,\n",
       " NP -> N,\n",
       " N -> 'children',\n",
       " AUX -> 'must',\n",
       " VP -> VP PP PP,\n",
       " VP -> V,\n",
       " V -> 'play',\n",
       " PP -> P NP,\n",
       " P -> 'in',\n",
       " NP -> DET N,\n",
       " DET -> 'the',\n",
       " N -> 'park',\n",
       " PP -> P NP,\n",
       " P -> 'with',\n",
       " NP -> DET N,\n",
       " DET -> 'their',\n",
       " N -> 'friends']"
      ]
     },
     "execution_count": 18,
     "metadata": {},
     "output_type": "execute_result"
    }
   ],
   "source": [
    "s5_rules=s5.productions()\n",
    "s5_rules"
   ]
  },
  {
   "cell_type": "markdown",
   "metadata": {
    "id": "gNDrDUyZwj6p"
   },
   "source": [
    "a. How many CF rules are used in s5?"
   ]
  },
  {
   "cell_type": "code",
   "execution_count": 19,
   "metadata": {
    "colab": {
     "base_uri": "https://localhost:8080/"
    },
    "id": "XG5Aozn6umKz",
    "outputId": "1c0b9ae7-53c7-4e8e-fd32-f601d2b20ee8"
   },
   "outputs": [
    {
     "name": "stdout",
     "output_type": "stream",
     "text": [
      "How Many CF values are used in s5    17\n"
     ]
    }
   ],
   "source": [
    "print(\"How Many CF values are used in s5   \",len(s5_rules))"
   ]
  },
  {
   "cell_type": "markdown",
   "metadata": {
    "id": "GYZgN7j8wnEi"
   },
   "source": [
    "b. How many unique CF rules are used in s5?"
   ]
  },
  {
   "cell_type": "code",
   "execution_count": 20,
   "metadata": {
    "colab": {
     "base_uri": "https://localhost:8080/"
    },
    "id": "nWuKDSAVtoSo",
    "outputId": "3e6e2342-866b-428d-e034-d145c98c9c3f"
   },
   "outputs": [
    {
     "name": "stdout",
     "output_type": "stream",
     "text": [
      "How Many unique CF rules are used in s5   15\n"
     ]
    }
   ],
   "source": [
    "x = npt.array(s5_rules)\n",
    "print(\"How Many unique CF rules are used in s5  \",len(npt.unique(x)))"
   ]
  },
  {
   "cell_type": "markdown",
   "metadata": {
    "id": "VOkPjXO8wrGV"
   },
   "source": [
    "c. How many of them are lexical?"
   ]
  },
  {
   "cell_type": "code",
   "execution_count": 21,
   "metadata": {
    "colab": {
     "base_uri": "https://localhost:8080/"
    },
    "id": "QktBv099ui7J",
    "outputId": "b9a73ff0-0943-400d-f6a0-4af982d65186"
   },
   "outputs": [
    {
     "name": "stdout",
     "output_type": "stream",
     "text": [
      "How many of them are lexical?   9\n"
     ]
    }
   ],
   "source": [
    "n=0\n",
    "for x in s5_rules:\n",
    "    if x.is_lexical():\n",
    "        n = n+1\n",
    "print(\"How many of them are lexical?  \",n)    "
   ]
  }
 ],
 "metadata": {
  "colab": {
   "name": "Lab_11_Building_Parse_Trees.ipynb",
   "provenance": []
  },
  "kernelspec": {
   "display_name": "Python 3",
   "language": "python",
   "name": "python3"
  },
  "language_info": {
   "codemirror_mode": {
    "name": "ipython",
    "version": 3
   },
   "file_extension": ".py",
   "mimetype": "text/x-python",
   "name": "python",
   "nbconvert_exporter": "python",
   "pygments_lexer": "ipython3",
   "version": "3.9.1"
  }
 },
 "nbformat": 4,
 "nbformat_minor": 1
}
