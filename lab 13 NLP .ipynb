{
 "cells": [
  {
   "cell_type": "code",
   "execution_count": 1,
   "id": "entitled-zealand",
   "metadata": {},
   "outputs": [],
   "source": [
    "import nltk\n",
    "from nltk.tree import Tree\n",
    "from nltk.tokenize import word_tokenize\n",
    "from IPython.display import display"
   ]
  },
  {
   "cell_type": "markdown",
   "id": "simple-today",
   "metadata": {},
   "source": [
    "### EXERCISE-1  In this part, you will be updating the grammar and the parser you built in the previous lab."
   ]
  },
  {
   "cell_type": "code",
   "execution_count": 2,
   "id": "peripheral-producer",
   "metadata": {},
   "outputs": [],
   "source": [
    "Grammar_1 = nltk.CFG.fromstring(\"\"\"\n",
    "S -> NP VP | NP VP \n",
    "NP -> N | Det N | PRO | N N \n",
    "VP -> V NP CP | VP ADVP | V NP \n",
    "ADVP -> ADV ADV \n",
    "CP -> COMP S \n",
    "N -> 'Lisa' | 'brother' | 'peanut' | 'butter'    \n",
    "V -> 'told' | 'liked'  \n",
    "COMP -> 'that' \n",
    "Det -> 'her' \n",
    "PRO -> 'she' \n",
    "ADV -> 'very' | 'much'\n",
    "\n",
    "S -> NP VP \n",
    "NP -> NP CONJ NP | N | NP PP | Det N | N | Det N \n",
    "VP -> VP PP | VP CONJ VP | V | V \n",
    "PP -> P NP | P NP \n",
    "N -> 'Homer' | 'friends' | 'work' | 'bar'   \n",
    "V -> 'drank' | 'sang'  \n",
    "CONJ -> 'and' | 'and'\n",
    "Det -> 'his' | 'the'\n",
    "P -> 'from' | 'in'\n",
    "\n",
    "S -> NP VP \n",
    "NP -> NP CONJ NP | N | N \n",
    "VP -> V ADJP \n",
    "ADJP -> ADJP CONJ ADJP | ADJ | ADV ADJ \n",
    "N -> 'Homer' | 'Marge'  \n",
    "V -> 'are'   \n",
    "CONJ -> 'and' | 'but'\n",
    "ADJ -> 'poor' | 'happy'\n",
    "ADV -> 'very'\n",
    "\n",
    "S -> NP VP | NP AUX VP \n",
    "NP -> PRO | NP CP | Det N | PRO | PRO | PRO | N |Det N\n",
    "VP -> V NP PP | V NP NP\n",
    "CP -> COMP S\n",
    "PP -> P NP \n",
    "Det -> 'the' | 'his' \n",
    "PRO -> 'he' | 'I' | 'him' \n",
    "N -> 'book' | 't' | 'sister'  \n",
    "V -> 'gave' | 'given'  \n",
    "COMP -> 'that'\n",
    "AUX -> 'had' \n",
    "P -> 'to'\n",
    "\n",
    "S -> NP VP\n",
    "NP -> PRO | Det N | Det N\n",
    "VP -> V NP PP\n",
    "PP -> P NP \n",
    "Det -> 'the' | 'his'\n",
    "PRO -> 'he' \n",
    "N -> 'book' | 'sister' \n",
    "V -> 'gave' \n",
    "P -> 'to'\n",
    "\n",
    "S -> NP VP\n",
    "NP -> Det ADJ N | Det ADJ ADJ N | N\n",
    "VP -> V NP|VP PP\n",
    "PP -> P NP \n",
    "Det -> 'the' | 'the'\n",
    "ADJ -> 'big' | 'tiny' | 'nerdy'\n",
    "N -> 'bully' | 'kid' | 'school'\n",
    "V -> 'punched'\n",
    "P -> 'after'\n",
    "\"\"\")"
   ]
  },
  {
   "cell_type": "markdown",
   "id": "honey-context",
   "metadata": {},
   "source": [
    "### 1. Examine the parser output from the previous lab. Is any of the sentences ambiguous, that is, has more than one parse tree? Pick an example and provide an explanation. "
   ]
  },
  {
   "cell_type": "code",
   "execution_count": 3,
   "id": "falling-inside",
   "metadata": {},
   "outputs": [],
   "source": [
    "groucho_grammar6 = nltk.CFG.fromstring(\"\"\"\n",
    "S -> NP VP | NP VP \n",
    "NP -> N | Det N | PRO | N N \n",
    "VP -> V NP CP | VP ADVP | V NP \n",
    "ADVP -> ADV ADV \n",
    "CP -> COMP S \n",
    "N -> 'Lisa' | 'brother' | 'peanut' | 'butter'    \n",
    "V -> 'told' | 'liked'  \n",
    "COMP -> 'that' \n",
    "Det -> 'her' \n",
    "PRO -> 'she' \n",
    "ADV -> 'very' | 'much'\n",
    "\"\"\")"
   ]
  },
  {
   "cell_type": "code",
   "execution_count": 4,
   "id": "another-organization",
   "metadata": {},
   "outputs": [
    {
     "name": "stdout",
     "output_type": "stream",
     "text": [
      "(S\n",
      "  (NP (N Lisa))\n",
      "  (VP\n",
      "    (VP\n",
      "      (V told)\n",
      "      (NP (Det her) (N brother))\n",
      "      (CP\n",
      "        (COMP that)\n",
      "        (S (NP (PRO she)) (VP (V liked) (NP (N peanut) (N butter))))))\n",
      "    (ADVP (ADV very) (ADV much))))\n",
      "(S\n",
      "  (NP (N Lisa))\n",
      "  (VP\n",
      "    (V told)\n",
      "    (NP (Det her) (N brother))\n",
      "    (CP\n",
      "      (COMP that)\n",
      "      (S\n",
      "        (NP (PRO she))\n",
      "        (VP\n",
      "          (VP (V liked) (NP (N peanut) (N butter)))\n",
      "          (ADVP (ADV very) (ADV much)))))))\n"
     ]
    }
   ],
   "source": [
    "sent6 = word_tokenize(\"Lisa told her brother that she liked peanut butter very much\")\n",
    "parser = nltk.ChartParser(groucho_grammar6)\n",
    "for i in parser.parse(sent6):\n",
    "    print(i)"
   ]
  },
  {
   "cell_type": "code",
   "execution_count": 5,
   "id": "expensive-scout",
   "metadata": {},
   "outputs": [
    {
     "name": "stdout",
     "output_type": "stream",
     "text": [
      "      S                                                                  \n",
      "  ____|____                                                               \n",
      " |         VP                                                            \n",
      " |     ____|____________________                                          \n",
      " |    |        |                CP                                       \n",
      " |    |        |            ____|__________                               \n",
      " |    |        |           |               S                             \n",
      " |    |        |           |     __________|__________                    \n",
      " |    |        |           |    |                     VP                 \n",
      " |    |        |           |    |           __________|__________         \n",
      " |    |        |           |    |          VP                    |       \n",
      " |    |        |           |    |     _____|_____                |        \n",
      " NP   |        NP          |    NP   |           NP             ADVP     \n",
      " |    |     ___|_____      |    |    |      _____|____       ____|____    \n",
      " N    V   Det        N    COMP PRO   V     N          N    ADV       ADV \n",
      " |    |    |         |     |    |    |     |          |     |         |   \n",
      "Lisa told her     brother that she liked peanut     butter very      much\n",
      "\n",
      "           S                                                                 \n",
      "  _________|____________________                                              \n",
      " |                              VP                                           \n",
      " |                          ____|____________________________________         \n",
      " |                         VP                                        |       \n",
      " |     ____________________|_________                                |        \n",
      " |    |        |                     CP                              |       \n",
      " |    |        |            _________|____                           |        \n",
      " |    |        |           |              S                          |       \n",
      " |    |        |           |     _________|____                      |        \n",
      " |    |        |           |    |              VP                    |       \n",
      " |    |        |           |    |     _________|_____                |        \n",
      " NP   |        NP          |    NP   |               NP             ADVP     \n",
      " |    |     ___|_____      |    |    |          _____|____       ____|____    \n",
      " N    V   Det        N    COMP PRO   V         N          N    ADV       ADV \n",
      " |    |    |         |     |    |    |         |          |     |         |   \n",
      "Lisa told her     brother that she liked     peanut     butter very      much\n",
      "\n"
     ]
    }
   ],
   "source": [
    "np6 =nltk.Tree.fromstring('(S(NP (N Lisa))(VP(V told)(NP (Det her) (N brother))(CP(COMP that)(S(NP (PRO she))(VP(VP (V liked) (NP (N peanut) (N butter)))(ADVP (ADV very) (ADV much)))))))')\n",
    "np6.pretty_print()\n",
    "\n",
    "np6 =nltk.Tree.fromstring('(S(NP (N Lisa))(VP(VP(V told)(NP (Det her) (N brother))(CP(COMP that)(S (NP (PRO she)) (VP (V liked) (NP (N peanut) (N butter))))))(ADVP (ADV very) (ADV much))))')\n",
    "np6.pretty_print()"
   ]
  },
  {
   "cell_type": "markdown",
   "id": "front-mixture",
   "metadata": {},
   "source": [
    "### 2. Have your parser parse this new sentence. It is covered by the grammar, therefore the  parser should be able to handle it: \n",
    "(s12): Lisa and her friends told Marge that Homer punched the bully in the bar"
   ]
  },
  {
   "cell_type": "code",
   "execution_count": 6,
   "id": "cloudy-automation",
   "metadata": {
    "scrolled": false
   },
   "outputs": [
    {
     "name": "stdout",
     "output_type": "stream",
     "text": [
      "(S\n",
      "  (NP (N Lisa))\n",
      "  (VP\n",
      "    (V told)\n",
      "    (NP (Det her) (N brother))\n",
      "    (CP\n",
      "      (COMP that)\n",
      "      (S\n",
      "        (NP (PRO she))\n",
      "        (VP\n",
      "          (VP (V liked) (NP (N peanut) (N butter)))\n",
      "          (ADVP (ADV very) (ADV much)))))))\n",
      "***********************************\n",
      "(S\n",
      "  (NP (N Lisa))\n",
      "  (VP\n",
      "    (V told)\n",
      "    (NP (Det her) (N brother))\n",
      "    (CP\n",
      "      (COMP that)\n",
      "      (S\n",
      "        (NP (PRO she))\n",
      "        (VP\n",
      "          (VP (V liked) (NP (N peanut)) (NP (N butter)))\n",
      "          (ADVP (ADV very) (ADV much)))))))\n",
      "***********************************\n",
      "(S\n",
      "  (NP (N Lisa))\n",
      "  (VP\n",
      "    (V told)\n",
      "    (NP\n",
      "      (NP (Det her) (N brother))\n",
      "      (CP\n",
      "        (COMP that)\n",
      "        (S\n",
      "          (NP (PRO she))\n",
      "          (VP\n",
      "            (VP (V liked) (NP (N peanut) (N butter)))\n",
      "            (ADVP (ADV very) (ADV much))))))))\n",
      "***********************************\n",
      "(S\n",
      "  (NP (N Lisa))\n",
      "  (VP\n",
      "    (V told)\n",
      "    (NP\n",
      "      (NP (Det her) (N brother))\n",
      "      (CP\n",
      "        (COMP that)\n",
      "        (S\n",
      "          (NP (PRO she))\n",
      "          (VP\n",
      "            (VP (V liked) (NP (N peanut)) (NP (N butter)))\n",
      "            (ADVP (ADV very) (ADV much))))))))\n",
      "***********************************\n",
      "(S\n",
      "  (NP (N Lisa))\n",
      "  (VP\n",
      "    (VP\n",
      "      (V told)\n",
      "      (NP\n",
      "        (NP (Det her) (N brother))\n",
      "        (CP (COMP that) (S (NP (PRO she)) (VP (V liked)))))\n",
      "      (NP (N peanut) (N butter)))\n",
      "    (ADVP (ADV very) (ADV much))))\n",
      "***********************************\n",
      "(S\n",
      "  (NP (N Lisa))\n",
      "  (VP\n",
      "    (VP\n",
      "      (V told)\n",
      "      (NP\n",
      "        (NP (Det her) (N brother))\n",
      "        (CP\n",
      "          (COMP that)\n",
      "          (S (NP (PRO she)) (VP (V liked) (NP (N peanut))))))\n",
      "      (NP (N butter)))\n",
      "    (ADVP (ADV very) (ADV much))))\n",
      "***********************************\n",
      "(S\n",
      "  (NP (N Lisa))\n",
      "  (VP\n",
      "    (VP\n",
      "      (V told)\n",
      "      (NP (Det her) (N brother))\n",
      "      (CP\n",
      "        (COMP that)\n",
      "        (S (NP (PRO she)) (VP (V liked) (NP (N peanut) (N butter))))))\n",
      "    (ADVP (ADV very) (ADV much))))\n",
      "***********************************\n",
      "(S\n",
      "  (NP (N Lisa))\n",
      "  (VP\n",
      "    (VP\n",
      "      (V told)\n",
      "      (NP (Det her) (N brother))\n",
      "      (CP\n",
      "        (COMP that)\n",
      "        (S\n",
      "          (NP (PRO she))\n",
      "          (VP (V liked) (NP (N peanut)) (NP (N butter))))))\n",
      "    (ADVP (ADV very) (ADV much))))\n",
      "***********************************\n",
      "(S\n",
      "  (NP (N Lisa))\n",
      "  (VP\n",
      "    (VP\n",
      "      (V told)\n",
      "      (NP\n",
      "        (NP (Det her) (N brother))\n",
      "        (CP\n",
      "          (COMP that)\n",
      "          (S\n",
      "            (NP (PRO she))\n",
      "            (VP (V liked) (NP (N peanut) (N butter)))))))\n",
      "    (ADVP (ADV very) (ADV much))))\n",
      "***********************************\n",
      "(S\n",
      "  (NP (N Lisa))\n",
      "  (VP\n",
      "    (VP\n",
      "      (V told)\n",
      "      (NP\n",
      "        (NP (Det her) (N brother))\n",
      "        (CP\n",
      "          (COMP that)\n",
      "          (S\n",
      "            (NP (PRO she))\n",
      "            (VP (V liked) (NP (N peanut)) (NP (N butter)))))))\n",
      "    (ADVP (ADV very) (ADV much))))\n",
      "***********************************\n"
     ]
    }
   ],
   "source": [
    "sen = word_tokenize(\"Lisa told her brother that she liked peanut butter very much\")\n",
    "parser = nltk.ChartParser(Grammar_1)\n",
    "for i in parser.parse(sen):\n",
    "    print(i)\n",
    "    print(\"***********************************\")"
   ]
  },
  {
   "cell_type": "markdown",
   "id": "descending-hamilton",
   "metadata": {},
   "source": [
    "### 3. Come up with a sentence of your own that's covered by grammar1 and have the parser parse it. Are you satisfied with the result?"
   ]
  },
  {
   "cell_type": "code",
   "execution_count": 7,
   "id": "ethical-logging",
   "metadata": {},
   "outputs": [
    {
     "name": "stdout",
     "output_type": "stream",
     "text": [
      "(S\n",
      "  (NP (NP (N Homer)) (CONJ and) (NP (N Lisa)))\n",
      "  (VP\n",
      "    (VP (V punched) (NP (Det the) (ADJ tiny) (ADJ nerdy) (N kid)))\n",
      "    (PP (P after) (NP (N school)))))\n",
      "(S\n",
      "  (NP (NP (N Homer)) (CONJ and) (NP (N Lisa)))\n",
      "  (VP\n",
      "    (V punched)\n",
      "    (NP (Det the) (ADJ tiny) (ADJ nerdy) (N kid))\n",
      "    (PP (P after) (NP (N school)))))\n",
      "(S\n",
      "  (NP (NP (N Homer)) (CONJ and) (NP (N Lisa)))\n",
      "  (VP\n",
      "    (V punched)\n",
      "    (NP\n",
      "      (NP (Det the) (ADJ tiny) (ADJ nerdy) (N kid))\n",
      "      (PP (P after) (NP (N school))))))\n"
     ]
    }
   ],
   "source": [
    "test = word_tokenize(\"Homer and Lisa punched the tiny nerdy kid after school\")\n",
    "parser = nltk.ChartParser(Grammar_1)\n",
    "for i in parser.parse(test):\n",
    "    print(i)"
   ]
  },
  {
   "cell_type": "markdown",
   "id": "answering-february",
   "metadata": {},
   "source": [
    "### 4. Let's revisit our first three sentences from the previous lab. \n",
    "(s1): Marge will make a ham sandwich \n",
    "\n",
    "(s2): will Marge make a ham sandwich \n",
    "\n",
    "(s3): Homer ate the donut on the table\n",
    "\n",
    "#### As it is, your grammar1 does not cover them. But we can extend it with the CF rules from the three sentences' trees. Follow the steps below."
   ]
  },
  {
   "cell_type": "markdown",
   "id": "ultimate-punch",
   "metadata": {},
   "source": [
    "#### a. From the three sentence trees, create a list of all production rules in them. Turn it  into a set, which removes all duplicates. (Hint: use set().)"
   ]
  },
  {
   "cell_type": "code",
   "execution_count": 8,
   "id": "above-tract",
   "metadata": {},
   "outputs": [],
   "source": [
    "alt = set()"
   ]
  },
  {
   "attachments": {
    "image.png": {
     "image/png": "[encoded data removed]"
    }
   },
   "cell_type": "markdown",
   "id": "assigned-northern",
   "metadata": {},
   "source": [
    "![image.png](attachment:image.png)"
   ]
  },
  {
   "cell_type": "code",
   "execution_count": 9,
   "id": "suburban-arizona",
   "metadata": {},
   "outputs": [
    {
     "name": "stdout",
     "output_type": "stream",
     "text": [
      "            S                       \n",
      "   _________|________                \n",
      "  |    |             VP             \n",
      "  |    |     ________|___            \n",
      "  NP   |    |            NP         \n",
      "  |    |    |     _______|_____      \n",
      "  N   AUX   V   Det      N     N    \n",
      "  |    |    |    |       |     |     \n",
      "Marge will make  a      ham sandwich\n",
      "\n"
     ]
    }
   ],
   "source": [
    "s1 = nltk.Tree.fromstring('(S(NP (N Marge))(AUX will)(VP (V make) (NP (Det a) (N ham) (N sandwich))))')\n",
    "s1.pretty_print()"
   ]
  },
  {
   "cell_type": "code",
   "execution_count": 10,
   "id": "stretch-schema",
   "metadata": {},
   "outputs": [
    {
     "data": {
      "text/plain": [
       "[S -> NP AUX VP,\n",
       " NP -> N,\n",
       " N -> 'Marge',\n",
       " AUX -> 'will',\n",
       " VP -> V NP,\n",
       " V -> 'make',\n",
       " NP -> Det N N,\n",
       " Det -> 'a',\n",
       " N -> 'ham',\n",
       " N -> 'sandwich']"
      ]
     },
     "execution_count": 10,
     "metadata": {},
     "output_type": "execute_result"
    }
   ],
   "source": [
    "s1_rule=s1.productions()\n",
    "for i in s1_rule:\n",
    "    alt.add(i)\n",
    "s1_rule    "
   ]
  },
  {
   "attachments": {
    "image.png": {
     "image/png": "[encoded data removed]"
    }
   },
   "cell_type": "markdown",
   "id": "missing-conflict",
   "metadata": {},
   "source": [
    "![image.png](attachment:image.png)"
   ]
  },
  {
   "cell_type": "code",
   "execution_count": 11,
   "id": "forbidden-jewel",
   "metadata": {},
   "outputs": [
    {
     "name": "stdout",
     "output_type": "stream",
     "text": [
      "            S                       \n",
      "  __________|________                \n",
      " |     |             VP             \n",
      " |     |     ________|___            \n",
      " |     NP   |            NP         \n",
      " |     |    |     _______|_____      \n",
      "AUX    N    V   Det      N     N    \n",
      " |     |    |    |       |     |     \n",
      "will Marge make  a      ham sandwich\n",
      "\n"
     ]
    }
   ],
   "source": [
    "s2 = nltk.Tree.fromstring('(S(AUX will)(NP (N Marge))(VP (V make) (NP (Det a) (N ham) (N sandwich))))')\n",
    "s2.pretty_print()"
   ]
  },
  {
   "cell_type": "code",
   "execution_count": 12,
   "id": "classical-coach",
   "metadata": {},
   "outputs": [
    {
     "data": {
      "text/plain": [
       "[S -> AUX NP VP,\n",
       " AUX -> 'will',\n",
       " NP -> N,\n",
       " N -> 'Marge',\n",
       " VP -> V NP,\n",
       " V -> 'make',\n",
       " NP -> Det N N,\n",
       " Det -> 'a',\n",
       " N -> 'ham',\n",
       " N -> 'sandwich']"
      ]
     },
     "execution_count": 12,
     "metadata": {},
     "output_type": "execute_result"
    }
   ],
   "source": [
    "s2_rule=s2.productions()\n",
    "for i in s2_rule:\n",
    "    alt.add(i)    \n",
    "s2_rule    "
   ]
  },
  {
   "attachments": {
    "image.png": {
     "image/png": "[encoded data removed]"
    }
   },
   "cell_type": "markdown",
   "id": "tribal-alexander",
   "metadata": {},
   "source": [
    "![image.png](attachment:image.png)"
   ]
  },
  {
   "cell_type": "code",
   "execution_count": 13,
   "id": "supposed-expression",
   "metadata": {},
   "outputs": [
    {
     "name": "stdout",
     "output_type": "stream",
     "text": [
      "       S                                 \n",
      "   ____|____________                      \n",
      "  |                 VP                   \n",
      "  |     ____________|____                 \n",
      "  |    |                 NP              \n",
      "  |    |        _________|___             \n",
      "  |    |       |             PP          \n",
      "  |    |       |          ___|___         \n",
      "  NP   |       NP        |       NP      \n",
      "  |    |    ___|____     |    ___|____    \n",
      "  N    V  Det       N    P  Det       N  \n",
      "  |    |   |        |    |   |        |   \n",
      "Homer ate the     donut  on the     table\n",
      "\n"
     ]
    }
   ],
   "source": [
    "s3 = nltk.Tree.fromstring('(S(NP (N Homer))(VP(V ate)(NP(NP (Det the) (N donut))(PP (P on) (NP (Det the) (N table))))))')\n",
    "s3.pretty_print()"
   ]
  },
  {
   "cell_type": "code",
   "execution_count": 14,
   "id": "israeli-ozone",
   "metadata": {},
   "outputs": [
    {
     "data": {
      "text/plain": [
       "[S -> NP VP,\n",
       " NP -> N,\n",
       " N -> 'Homer',\n",
       " VP -> V NP,\n",
       " V -> 'ate',\n",
       " NP -> NP PP,\n",
       " NP -> Det N,\n",
       " Det -> 'the',\n",
       " N -> 'donut',\n",
       " PP -> P NP,\n",
       " P -> 'on',\n",
       " NP -> Det N,\n",
       " Det -> 'the',\n",
       " N -> 'table']"
      ]
     },
     "execution_count": 14,
     "metadata": {},
     "output_type": "execute_result"
    }
   ],
   "source": [
    "s3_rule=list(s3.productions())\n",
    "for i in s3_rule:\n",
    "    alt.add(i)\n",
    "s3_rule    "
   ]
  },
  {
   "cell_type": "code",
   "execution_count": 15,
   "id": "early-missile",
   "metadata": {},
   "outputs": [
    {
     "data": {
      "text/plain": [
       "{AUX -> 'will',\n",
       " Det -> 'a',\n",
       " Det -> 'the',\n",
       " N -> 'Homer',\n",
       " N -> 'Marge',\n",
       " N -> 'donut',\n",
       " N -> 'ham',\n",
       " N -> 'sandwich',\n",
       " N -> 'table',\n",
       " NP -> Det N,\n",
       " NP -> Det N N,\n",
       " NP -> N,\n",
       " NP -> NP PP,\n",
       " P -> 'on',\n",
       " PP -> P NP,\n",
       " S -> AUX NP VP,\n",
       " S -> NP AUX VP,\n",
       " S -> NP VP,\n",
       " V -> 'ate',\n",
       " V -> 'make',\n",
       " VP -> V NP}"
      ]
     },
     "execution_count": 15,
     "metadata": {},
     "output_type": "execute_result"
    }
   ],
   "source": [
    "alt"
   ]
  },
  {
   "cell_type": "markdown",
   "id": "prescribed-powell",
   "metadata": {},
   "source": [
    "#### b. From it, create a new list called more_rules, which consists of CF rules from the  three trees *that are not already in grammar1*.\n"
   ]
  },
  {
   "cell_type": "code",
   "execution_count": 16,
   "id": "diagnostic-delaware",
   "metadata": {},
   "outputs": [],
   "source": [
    "more_rules = []"
   ]
  },
  {
   "cell_type": "code",
   "execution_count": 17,
   "id": "postal-affair",
   "metadata": {},
   "outputs": [
    {
     "data": {
      "text/plain": [
       "[S -> NP AUX VP,\n",
       " N -> 'donut',\n",
       " N -> 'Homer',\n",
       " S -> AUX NP VP,\n",
       " N -> 'sandwich',\n",
       " V -> 'make',\n",
       " P -> 'on',\n",
       " NP -> N,\n",
       " VP -> V NP,\n",
       " NP -> Det N N,\n",
       " N -> 'ham',\n",
       " AUX -> 'will',\n",
       " S -> NP VP,\n",
       " Det -> 'a',\n",
       " V -> 'ate',\n",
       " NP -> NP PP,\n",
       " PP -> P NP,\n",
       " N -> 'table',\n",
       " NP -> Det N,\n",
       " Det -> 'the',\n",
       " N -> 'Marge']"
      ]
     },
     "execution_count": 17,
     "metadata": {},
     "output_type": "execute_result"
    }
   ],
   "source": [
    "more_rules = list(alt)\n",
    "more_rules"
   ]
  },
  {
   "cell_type": "markdown",
   "id": "typical-smell",
   "metadata": {},
   "source": [
    "#### c. Add the additional rules to your grammar1's production rules, using  the .extend() method."
   ]
  },
  {
   "cell_type": "code",
   "execution_count": 18,
   "id": "national-exclusion",
   "metadata": {},
   "outputs": [],
   "source": [
    "Grammar_1.productions().extend(list(more_rules))"
   ]
  },
  {
   "cell_type": "markdown",
   "id": "unauthorized-accident",
   "metadata": {},
   "source": [
    "#### d. And then, you have to re-initialize the grammar using the extended production rules  (highlighted part). An illustration:"
   ]
  },
  {
   "cell_type": "code",
   "execution_count": 19,
   "id": "communist-clerk",
   "metadata": {},
   "outputs": [],
   "source": [
    "grammer3 = nltk.CFG.fromstring(\"\"\" \n",
    "S -> NP VP\n",
    "NP -> N\n",
    "VP -> V\n",
    "N -> 'Homer'\n",
    "V -> 'sleeps'\n",
    "\"\"\")"
   ]
  },
  {
   "cell_type": "code",
   "execution_count": 20,
   "id": "foster-forward",
   "metadata": {},
   "outputs": [
    {
     "name": "stdout",
     "output_type": "stream",
     "text": [
      "Grammar with 5 productions (start state = S)\n",
      "    S -> NP VP\n",
      "    NP -> N\n",
      "    VP -> V\n",
      "    N -> 'Homer'\n",
      "    V -> 'sleeps'\n"
     ]
    }
   ],
   "source": [
    "print(grammer3)"
   ]
  },
  {
   "cell_type": "code",
   "execution_count": 21,
   "id": "least-plaintiff",
   "metadata": {},
   "outputs": [
    {
     "data": {
      "text/plain": [
       "[S -> NP AUX VP,\n",
       " N -> 'donut',\n",
       " N -> 'Homer',\n",
       " S -> AUX NP VP,\n",
       " N -> 'sandwich',\n",
       " V -> 'make',\n",
       " P -> 'on',\n",
       " NP -> N,\n",
       " VP -> V NP,\n",
       " NP -> Det N N,\n",
       " N -> 'ham',\n",
       " AUX -> 'will',\n",
       " S -> NP VP,\n",
       " Det -> 'a',\n",
       " V -> 'ate',\n",
       " NP -> NP PP,\n",
       " PP -> P NP,\n",
       " N -> 'table',\n",
       " NP -> Det N,\n",
       " Det -> 'the',\n",
       " N -> 'Marge']"
      ]
     },
     "execution_count": 21,
     "metadata": {},
     "output_type": "execute_result"
    }
   ],
   "source": [
    "more_rules"
   ]
  },
  {
   "cell_type": "code",
   "execution_count": 22,
   "id": "fabulous-personality",
   "metadata": {},
   "outputs": [
    {
     "name": "stdout",
     "output_type": "stream",
     "text": [
      "Grammar with 26 productions (start state = S)\n",
      "    S -> NP VP\n",
      "    NP -> N\n",
      "    VP -> V\n",
      "    N -> 'Homer'\n",
      "    V -> 'sleeps'\n",
      "    S -> NP AUX VP\n",
      "    N -> 'donut'\n",
      "    N -> 'Homer'\n",
      "    S -> AUX NP VP\n",
      "    N -> 'sandwich'\n",
      "    V -> 'make'\n",
      "    P -> 'on'\n",
      "    NP -> N\n",
      "    VP -> V NP\n",
      "    NP -> Det N N\n",
      "    N -> 'ham'\n",
      "    AUX -> 'will'\n",
      "    S -> NP VP\n",
      "    Det -> 'a'\n",
      "    V -> 'ate'\n",
      "    NP -> NP PP\n",
      "    PP -> P NP\n",
      "    N -> 'table'\n",
      "    NP -> Det N\n",
      "    Det -> 'the'\n",
      "    N -> 'Marge'\n"
     ]
    }
   ],
   "source": [
    "grammer3.productions().extend(more_rules)\n",
    "grammer3 = nltk.grammar.CFG(grammer3.start(), grammer3.productions())\n",
    "print(grammer3)"
   ]
  },
  {
   "cell_type": "markdown",
   "id": "attempted-hotel",
   "metadata": {},
   "source": [
    "#### e. Now, rebuild your chart parser with the updated grammar1. And try parsing the three sentences. It should successfully parse them."
   ]
  },
  {
   "cell_type": "code",
   "execution_count": 23,
   "id": "young-robinson",
   "metadata": {},
   "outputs": [],
   "source": [
    "Grammar_1 = nltk.CFG.fromstring(\"\"\"\n",
    "S -> NP VP | NP VP \n",
    "NP -> N | Det N | PRO | N N \n",
    "VP -> V NP CP | VP ADVP | V NP \n",
    "ADVP -> ADV ADV \n",
    "CP -> COMP S \n",
    "N -> 'Lisa' | 'brother' | 'peanut' | 'butter'    \n",
    "V -> 'told' | 'liked'  \n",
    "COMP -> 'that' \n",
    "Det -> 'her' \n",
    "PRO -> 'she' \n",
    "ADV -> 'very' | 'much'\n",
    "\n",
    "S -> NP VP \n",
    "NP -> NP CONJ NP | N | NP PP | Det N | N | Det N \n",
    "VP -> VP PP | VP CONJ VP | V | V \n",
    "PP -> P NP | P NP \n",
    "N -> 'Homer' | 'friends' | 'work' | 'bar'   \n",
    "V -> 'drank' | 'sang'  \n",
    "CONJ -> 'and' | 'and'\n",
    "Det -> 'his' | 'the'\n",
    "P -> 'from' | 'in'\n",
    "\n",
    "S -> NP VP \n",
    "NP -> NP CONJ NP | N | N \n",
    "VP -> V ADJP \n",
    "ADJP -> ADJP CONJ ADJP | ADJ | ADV ADJ \n",
    "N -> 'Homer' | 'Marge'  \n",
    "V -> 'are'   \n",
    "CONJ -> 'and' | 'but'\n",
    "ADJ -> 'poor' | 'happy'\n",
    "ADV -> 'very'\n",
    "\n",
    "S -> NP VP | NP AUX VP \n",
    "NP -> PRO | NP CP | Det N | PRO | PRO | PRO | N |Det N\n",
    "VP -> V NP PP | V NP NP\n",
    "CP -> COMP S\n",
    "PP -> P NP \n",
    "Det -> 'the' | 'his' \n",
    "PRO -> 'he' | 'I' | 'him' \n",
    "N -> 'book' | 't' | 'sister'  \n",
    "V -> 'gave' | 'given'  \n",
    "COMP -> 'that'\n",
    "AUX -> 'had' \n",
    "P -> 'to'\n",
    "\n",
    "S -> NP VP\n",
    "NP -> PRO | Det N | Det N\n",
    "VP -> V NP PP\n",
    "PP -> P NP \n",
    "Det -> 'the' | 'his'\n",
    "PRO -> 'he' \n",
    "N -> 'book' | 'sister' \n",
    "V -> 'gave' \n",
    "P -> 'to'\n",
    "\n",
    "S -> NP VP\n",
    "NP -> Det ADJ N | Det ADJ ADJ N | N\n",
    "VP -> V NP|VP PP\n",
    "PP -> P NP \n",
    "Det -> 'the' | 'the'\n",
    "ADJ -> 'big' | 'tiny' | 'nerdy'\n",
    "N -> 'bully' | 'kid' | 'school'\n",
    "V -> 'punched'\n",
    "P -> 'after'\n",
    "\n",
    "S -> NP AUX VP\n",
    "NP -> N |  Det N N\n",
    "VP -> V NP\n",
    "N -> 'Marge' | 'ham' | 'sandwich'\n",
    "AUX -> 'will'\n",
    "V -> 'make'\n",
    "Det -> 'a'\n",
    "\n",
    "\n",
    "S -> AUX NP VP\n",
    "NP -> N | Det N N \n",
    "VP -> V NP\n",
    "N -> 'Marge'\n",
    "V -> 'make'\n",
    "AUX -> 'will'\n",
    "Det -> 'a'\n",
    "N -> 'Marge' | 'ham' | 'sandwich'\n",
    "\n",
    "\n",
    "S -> NP VP\n",
    "NP -> N | NP PP | Det N  | Det N\n",
    "PP -> P NP\n",
    "VP -> V NP\n",
    "N -> 'Homer' | 'donut' | 'table'\n",
    "V -> 'ate'\n",
    "Det -> 'the' | 'the'\n",
    "P -> 'on'\n",
    "\"\"\")"
   ]
  },
  {
   "cell_type": "code",
   "execution_count": 24,
   "id": "latest-habitat",
   "metadata": {},
   "outputs": [
    {
     "name": "stdout",
     "output_type": "stream",
     "text": [
      "(S\n",
      "  (AUX will)\n",
      "  (NP (N Marge))\n",
      "  (VP (V make) (NP (Det a) (N ham) (N sandwich))))\n",
      "(S\n",
      "  (AUX will)\n",
      "  (NP (N Marge))\n",
      "  (VP (V make) (NP (Det a) (N ham)) (NP (N sandwich))))\n"
     ]
    }
   ],
   "source": [
    "st = word_tokenize(\"will Marge make a ham sandwich\")\n",
    "parser = nltk.ChartParser(Grammar_1)\n",
    "for i in parser.parse(st):\n",
    "    print(i)"
   ]
  },
  {
   "cell_type": "markdown",
   "id": "fatty-simpson",
   "metadata": {},
   "source": [
    "### 5. Try parsing another sentence of your own that is covered by the newly extended grammar1.  Are you satisfied with the result?. Also, compare the result with other parsers – Recursive Descent Parser and Shift Reduce Parser. "
   ]
  },
  {
   "cell_type": "code",
   "execution_count": null,
   "id": "radical-turtle",
   "metadata": {},
   "outputs": [],
   "source": [
    "st = word_tokenize(\"will Marge make a ham sandwich\")\n",
    "rd_parser = nltk.RecursiveDescentParser(Grammar_1)\n",
    "for tree in rd_parser.parse(st):\n",
    "    print(tree)"
   ]
  },
  {
   "cell_type": "code",
   "execution_count": null,
   "id": "renewable-emperor",
   "metadata": {},
   "outputs": [],
   "source": [
    "st = word_tokenize(\"will Marge make a ham sandwich\")\n",
    "sr_parser = nltk.ShiftReduceParser(Grammar_1)\n",
    "for tree in sr_parser.parse(st):\n",
    "    print(tree)"
   ]
  },
  {
   "cell_type": "markdown",
   "id": "ranging-produce",
   "metadata": {},
   "source": [
    "### 6. As the final step, pickle your grammar1 as lab12_grammar.pkl. "
   ]
  },
  {
   "cell_type": "code",
   "execution_count": 25,
   "id": "reverse-picture",
   "metadata": {},
   "outputs": [],
   "source": [
    "import pickle"
   ]
  },
  {
   "cell_type": "code",
   "execution_count": 27,
   "id": "military-olympus",
   "metadata": {},
   "outputs": [],
   "source": [
    "f = open('lab12_grammar.pkl','wb')   # Pickle file is newly created where foo1.py is\n",
    "pickle.dump(Grammar_1,f)             # dump data to f\n",
    "f.close() "
   ]
  }
 ],
 "metadata": {
  "kernelspec": {
   "display_name": "Python 3",
   "language": "python",
   "name": "python3"
  },
  "language_info": {
   "codemirror_mode": {
    "name": "ipython",
    "version": 3
   },
   "file_extension": ".py",
   "mimetype": "text/x-python",
   "name": "python",
   "nbconvert_exporter": "python",
   "pygments_lexer": "ipython3",
   "version": "3.9.1"
  }
 },
 "nbformat": 4,
 "nbformat_minor": 5
}
