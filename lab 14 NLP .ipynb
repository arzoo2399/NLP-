{
 "cells": [
  {
   "cell_type": "code",
   "execution_count": 1,
   "id": "bound-survey",
   "metadata": {},
   "outputs": [
    {
     "name": "stderr",
     "output_type": "stream",
     "text": [
      "[nltk_data] Downloading package wordnet to C:\\Users\\Arzoo\n",
      "[nltk_data]     Sah\\AppData\\Roaming\\nltk_data...\n",
      "[nltk_data]   Package wordnet is already up-to-date!\n"
     ]
    },
    {
     "data": {
      "text/plain": [
       "True"
      ]
     },
     "execution_count": 1,
     "metadata": {},
     "output_type": "execute_result"
    }
   ],
   "source": [
    "import nltk\n",
    "from nltk.wsd import lesk\n",
    "from nltk.corpus import wordnet as wn\n",
    "nltk.download('wordnet')"
   ]
  },
  {
   "cell_type": "markdown",
   "id": "addressed-excuse",
   "metadata": {},
   "source": [
    "## EXERCISE-1\n"
   ]
  },
  {
   "cell_type": "code",
   "execution_count": 2,
   "id": "ranging-healthcare",
   "metadata": {},
   "outputs": [
    {
     "name": "stdout",
     "output_type": "stream",
     "text": [
      "Synset('bass.n.01') the lowest part of the musical range\n",
      "Synset('bass.n.02') the lowest part in polyphonic music\n",
      "Synset('bass.n.03') an adult male singer with the lowest voice\n",
      "Synset('sea_bass.n.01') the lean flesh of a saltwater fish of the family Serranidae\n",
      "Synset('freshwater_bass.n.01') any of various North American freshwater fish with lean flesh (especially of the genus Micropterus)\n",
      "Synset('bass.n.06') the lowest adult male singing voice\n",
      "Synset('bass.n.07') the member with the lowest range of a family of musical instruments\n",
      "Synset('bass.n.08') nontechnical name for any of numerous edible marine and freshwater spiny-finned fishes\n",
      "Synset('bass.s.01') having or denoting a low vocal or instrumental range\n"
     ]
    }
   ],
   "source": [
    "for ss in wn.synsets('bass'):\n",
    "    print(ss,ss.definition())"
   ]
  },
  {
   "cell_type": "code",
   "execution_count": 3,
   "id": "inclusive-steering",
   "metadata": {},
   "outputs": [
    {
     "name": "stdout",
     "output_type": "stream",
     "text": [
      "Synset('bass.n.08')\n"
     ]
    }
   ],
   "source": [
    "print(lesk('I went fishing for some sea bass'.split(),'bass','n'))"
   ]
  },
  {
   "cell_type": "code",
   "execution_count": 6,
   "id": "european-trance",
   "metadata": {},
   "outputs": [
    {
     "name": "stdout",
     "output_type": "stream",
     "text": [
      "Synset('bass.s.01')\n"
     ]
    }
   ],
   "source": [
    "print(lesk('The bass line of the song is too weak'.split(),'bass','s'))"
   ]
  },
  {
   "cell_type": "code",
   "execution_count": 4,
   "id": "fitted-northern",
   "metadata": {},
   "outputs": [
    {
     "name": "stdout",
     "output_type": "stream",
     "text": [
      "Synset('sea_bass.n.01')\n"
     ]
    }
   ],
   "source": [
    "print(lesk('Avishai Cohen is an Israeli jazz musician. He plays double bass and is also a composer'.split(), 'bass','n'))"
   ]
  },
  {
   "cell_type": "markdown",
   "id": "coastal-chuck",
   "metadata": {},
   "source": [
    "## EXERCISE-2: Print senses for ‘chair’\n",
    "\n",
    "According to WordNet, \n",
    "\n",
    "how many distinct senses does 'chair' have? \n",
    "\n",
    "What are the hyponyms of 'chair' in its 'chair.n.01' sense?\n",
    "\n",
    "What is its hypernym, and what is its hyper-hypernym?"
   ]
  },
  {
   "cell_type": "code",
   "execution_count": 5,
   "id": "classical-genre",
   "metadata": {},
   "outputs": [
    {
     "name": "stdout",
     "output_type": "stream",
     "text": [
      "Synset('chair.n.01') a seat for one person, with a support for the back\n",
      "Synset('professorship.n.01') the position of professor\n",
      "Synset('president.n.04') the officer who presides at the meetings of an organization\n",
      "Synset('electric_chair.n.01') an instrument of execution by electrocution; resembles an ordinary seat for one person\n",
      "Synset('chair.n.05') a particular seat in an orchestra\n",
      "Synset('chair.v.01') act or preside as chair, as of an academic department in a university\n",
      "Synset('moderate.v.01') preside over\n"
     ]
    }
   ],
   "source": [
    "for ss in wn.synsets('chair'):\n",
    "    print(ss,ss.definition())"
   ]
  },
  {
   "cell_type": "code",
   "execution_count": 7,
   "id": "digital-mileage",
   "metadata": {},
   "outputs": [
    {
     "data": {
      "text/plain": [
       "nltk.corpus.reader.wordnet.Synset"
      ]
     },
     "execution_count": 7,
     "metadata": {},
     "output_type": "execute_result"
    }
   ],
   "source": [
    "type(ss)"
   ]
  },
  {
   "cell_type": "code",
   "execution_count": 11,
   "id": "turkish-vertical",
   "metadata": {},
   "outputs": [
    {
     "name": "stdout",
     "output_type": "stream",
     "text": [
      "Synset('chair.n.01')\n"
     ]
    }
   ],
   "source": [
    "syn = wn.synsets('chair')[0]\n",
    "print(syn)"
   ]
  },
  {
   "cell_type": "code",
   "execution_count": 16,
   "id": "coated-rover",
   "metadata": {},
   "outputs": [
    {
     "name": "stdout",
     "output_type": "stream",
     "text": [
      "Synset name :   chair.n.01\n",
      "\n",
      "Synset abstract term :   [Synset('seat.n.03')]\n",
      "\n",
      "Synset specific term :   [Synset('bench.n.01'), Synset('bench.n.07'), Synset('box.n.08'), Synset('box_seat.n.01'), Synset('chair.n.01'), Synset('ottoman.n.03'), Synset('sofa.n.01'), Synset('stool.n.01'), Synset('toilet_seat.n.01')]\n",
      "\n",
      "Synset root hypernerm :   <bound method Synset.root_hypernyms of Synset('chair.n.01')>\n"
     ]
    }
   ],
   "source": [
    "print (\"Synset name :  \", syn.name())\n",
    "  \n",
    "print (\"\\nSynset abstract term :  \", syn.hypernyms())\n",
    "  \n",
    "print (\"\\nSynset specific term :  \", syn.hypernyms()[0].hyponyms())\n",
    "  \n",
    "print (\"\\nSynset root hypernerm :  \", syn.root_hypernyms)"
   ]
  },
  {
   "cell_type": "markdown",
   "id": "periodic-communist",
   "metadata": {},
   "source": [
    "## EXERCISE-3: Disambiguate the correct senses given the context sentence"
   ]
  },
  {
   "cell_type": "code",
   "execution_count": 18,
   "id": "paperback-justice",
   "metadata": {},
   "outputs": [],
   "source": [
    "from nltk.corpus import wordnet as wn\n",
    "from nltk.stem import PorterStemmer\n",
    "from itertools import chain"
   ]
  },
  {
   "cell_type": "code",
   "execution_count": 19,
   "id": "binding-deficit",
   "metadata": {},
   "outputs": [],
   "source": [
    "bank_sents = ['I went to the bank to deposit my money', 'The river bank was full of dead fishes']\n",
    "plant_sents = ['The workers at the industrial plant were overworked','The plant was no longer bearing flowers']\n",
    "ps = PorterStemmer()"
   ]
  },
  {
   "cell_type": "code",
   "execution_count": 22,
   "id": "adequate-energy",
   "metadata": {},
   "outputs": [],
   "source": [
    "def my_lesk(context_sentence, ambiguous_word,pos=None, stem=True, hyperhypo=True):\n",
    "    max_overlaps = 0\n",
    "    lesk_sense = None\n",
    "    context_sentence = context_sentence.split()\n",
    " \n",
    "    for ss in wn.synsets(ambiguous_word):                    # If POS is specified.\n",
    "        if pos and ss.pos is not pos:\n",
    "            continue\n",
    "   \n",
    "    lesk_dictionary = []\n",
    "\n",
    "    defns = ss.definition().split()                          # Includes definition.\n",
    "    lesk_dictionary += defns\n",
    "    lesk_dictionary += ss.lemma_names()                      # Includes lemma_names. \n",
    " \n",
    "    if hyperhypo == True:\n",
    "        hhwords = ss.hypernyms() + ss.hyponyms()             # Optional: includes lemma_names of hypernyms and hyponyms.\n",
    "        lesk_dictionary += list(chain(*[w.lemma_names() for w in hhwords] ))\n",
    "\n",
    "    if stem == True:                                         # Matching exact words causes sparsity, so lets match stems.\n",
    "        lesk_dictionary = [ps.stem(w) for w in lesk_dictionary]\n",
    "        context_sentence = [ps.stem(w) for w in context_sentence] \n",
    "        \n",
    "    overlaps = set(lesk_dictionary).intersection(context_sentence)\n",
    "    \n",
    "    if len(overlaps) > max_overlaps:\n",
    "        lesk_sense = ss\n",
    "        max_overlaps = len(overlaps)\n",
    " \n",
    "    return lesk_sense"
   ]
  },
  {
   "cell_type": "code",
   "execution_count": 23,
   "id": "every-cancellation",
   "metadata": {},
   "outputs": [
    {
     "name": "stdout",
     "output_type": "stream",
     "text": [
      "Context: I went to the bank to deposit my money\n",
      "Sense: Synset('trust.v.01')\n",
      "Definition: <bound method Synset.definition of Synset('trust.v.01')>\n"
     ]
    }
   ],
   "source": [
    "print(\"Context:\", bank_sents[0])\n",
    "answer = my_lesk(bank_sents[0],'bank')\n",
    "print(\"Sense:\", answer)\n",
    "print(\"Definition:\",answer.definition)"
   ]
  },
  {
   "cell_type": "code",
   "execution_count": 24,
   "id": "approved-baltimore",
   "metadata": {},
   "outputs": [
    {
     "name": "stdout",
     "output_type": "stream",
     "text": [
      "Context: The river bank was full of dead fishes\n",
      "Sense: Synset('trust.v.01')\n",
      "Definition: <bound method Synset.definition of Synset('trust.v.01')>\n"
     ]
    }
   ],
   "source": [
    "print(\"Context:\", bank_sents[1])\n",
    "answer = my_lesk(bank_sents[1],'bank')\n",
    "print(\"Sense:\", answer)\n",
    "print(\"Definition:\", answer.definition)"
   ]
  },
  {
   "cell_type": "code",
   "execution_count": 25,
   "id": "economic-genetics",
   "metadata": {},
   "outputs": [
    {
     "name": "stdout",
     "output_type": "stream",
     "text": [
      "Context: The workers at the industrial plant were overworked\n",
      "Sense: Synset('plant.v.06')\n",
      "Definition: <bound method Synset.definition of Synset('plant.v.06')>\n"
     ]
    }
   ],
   "source": [
    "print(\"Context:\", plant_sents[0])\n",
    "answer = my_lesk(plant_sents[0],'plant')\n",
    "print(\"Sense:\", answer)\n",
    "print(\"Definition:\",answer.definition)"
   ]
  },
  {
   "cell_type": "code",
   "execution_count": null,
   "id": "injured-vietnam",
   "metadata": {},
   "outputs": [],
   "source": []
  }
 ],
 "metadata": {
  "kernelspec": {
   "display_name": "Python 3",
   "language": "python",
   "name": "python3"
  },
  "language_info": {
   "codemirror_mode": {
    "name": "ipython",
    "version": 3
   },
   "file_extension": ".py",
   "mimetype": "text/x-python",
   "name": "python",
   "nbconvert_exporter": "python",
   "pygments_lexer": "ipython3",
   "version": "3.9.1"
  }
 },
 "nbformat": 4,
 "nbformat_minor": 5
}
