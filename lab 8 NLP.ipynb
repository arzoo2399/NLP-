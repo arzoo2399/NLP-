{
 "cells": [
  {
   "cell_type": "code",
   "execution_count": 1,
   "id": "distant-spotlight",
   "metadata": {},
   "outputs": [
    {
     "name": "stderr",
     "output_type": "stream",
     "text": [
      "[nltk_data] Error loading averaged_perceptron_tagger: <urlopen error\n",
      "[nltk_data]     [Errno 11001] getaddrinfo failed>\n"
     ]
    },
    {
     "data": {
      "text/plain": [
       "False"
      ]
     },
     "execution_count": 1,
     "metadata": {},
     "output_type": "execute_result"
    }
   ],
   "source": [
    "from zipfile import ZipFile \n",
    "import glob\n",
    "import nltk\n",
    "import pandas as pd\n",
    "from nltk import *\n",
    "from nltk.corpus import stopwords\n",
    "stop_words = set(stopwords.words('english'))\n",
    "nltk.download('averaged_perceptron_tagger')"
   ]
  },
  {
   "cell_type": "markdown",
   "id": "armed-times",
   "metadata": {},
   "source": [
    "## 1. Open any movie file from your movies sub directory"
   ]
  },
  {
   "cell_type": "code",
   "execution_count": 2,
   "id": "aquatic-trinity",
   "metadata": {},
   "outputs": [
    {
     "name": "stdout",
     "output_type": "stream",
     "text": [
      "What a work of art and nature is Marilyn Monroe. She hasn't aged into an icon, some citizen of the past, but still seems to be inventing herself as we watch her. She has the gift of appearing to hit on her lines of dialogue by happy inspiration, and there are passages in Billy Wilder's \"Some Like It Hot\" where she and Tony Curtis exchange one-liners like hot potatoes.\n",
      "\n",
      "Poured into a dress that offers her breasts like jolly treats for needy boys, she seems totally oblivious to sex while at the same time melting men into helpless desire. \"Look at that!\" Jack Lemmon tells Curtis as he watches her adoringly. \"Look how she moves. Like Jell-O on springs. She must have some sort of built-in motor. I tell you, it's a whole different sex.\"\n",
      "\n",
      "Wilder's 1959 comedy is one of the enduring treasures of the movies, a film of inspiration and meticulous craft, a movie that's about nothing but sex and yet pretends it's about crime and greed. It is underwired with Wilder's cheerful cynicism, so that no time is lost to soppiness and everyone behaves according to basic Darwinian drives. When sincere emotion strikes these characters, it blindsides them: Curtis thinks he wants only sex, Monroe thinks she wants only money, and they are as astonished as delighted to find they want only each other.\n",
      "\n",
      "The plot is classic screwball. Curtis and Lemmon play Chicago musicians who disguise themselves as women to avoid being rubbed out after they witness the St. Valentine's Day Massacre. They join an all-girl orchestra on its way to Florida. Monroe is the singer, who dreams of marrying a millionaire but despairs, \"I always get the fuzzy end of the lollipop.\" Curtis lusts for Monroe and disguises himself as a millionaire to win her. Monroe lusts after money and gives him lessons in love. Their relationship is flipped and mirrored in low comedy as Lemmon gets engaged to a real millionaire, played by Joe E. Brown. \"You're not a girl!\" Curtis protests to Lemmon. \"You're a guy! Why would a guy want to marry a guy?\" Lemmon: \"Security!\"\n",
      "\n",
      "The movie has been compared to Marx Brothers classics, especially in the slapstick chases as gangsters pursue the heroes through hotel corridors. The weak points in many Marx Brothers films are the musical interludes--not Harpo's solos, but the romantic duets involving insipid supporting characters. \"Some Like It Hot\" has no problems with its musical numbers because the singer is Monroe, who didn't have a great singing voice but was as good as Frank Sinatra at selling the lyrics.\n",
      "\n",
      "Consider her solo of \"I Wanna Be Loved by You.\" The situation is as basic as it can be: a pretty girl standing in front of an orchestra and singing a song. Monroe and Wilder turn it into one of the most mesmerizing and blatantly sexual scenes in the movies. She wears that clinging, see-through dress, gauze covering the upper slopes of her breasts, the neckline scooping to a censor's eyebrow north of trouble. Wilder places her in the center of a round spotlight that does not simply illuminate her from the waist up, as an ordinary spotlight would, but toys with her like a surrogate neckline, dipping and clinging as Monroe moves her body higher and lower in the light with teasing precision. It is a striptease in which nudity would have been superfluous. All the time she seems unaware of the effect, singing the song innocently, as if she thinks it's the literal truth. To experience that scene is to understand why no other actor, male or female, has more sexual chemistry with the camera than Monroe.\n",
      "\n",
      "Capturing the chemistry was not all that simple. Legends surround \"Some Like It Hot.\" Kissing Marilyn, Curtis famously said, was like kissing Hitler. Monroe had so much trouble saying one line (\"Where's the bourbon?\") while looking in a dresser drawer that Wilder had the line pasted inside the drawer. Then she opened the wrong drawer. So he had it pasted inside every drawer.\n",
      "\n",
      "Monroe's eccentricities and neuroses on sets became notorious, but studios put up with her long after any other actress would have been blackballed because what they got back on the screen was magical. Watch the final take of \"Where's the bourbon?\" and Monroe seems utterly spontaneous. And watch the famous scene aboard the yacht, where Curtis complains that no woman can arouse him, and Marilyn does her best. She kisses him not erotically but tenderly, sweetly, as if offering a gift and healing a wound. You remember what Curtis said but when you watch that scene, all you can think is that Hitler must have been a terrific kisser.\n",
      "\n",
      "The movie is really the story of the Lemmon and Curtis characters, and it's got a top-shelf supporting cast (Joe E. Brown, George Raft, Pat O'Brien), but Monroe steals it, as she walked away with every movie she was in. It is an act of the will to watch anyone else while she is on the screen. Tony Curtis' performance is all the more admirable because we know how many takes she needed--Curtis must have felt at times like he was in a pro-am tournament. Yet he stays fresh and alive in sparkling dialogue scenes like their first meeting on the beach, where he introduces himself as the Shell Oil heir and wickedly parodies Cary Grant. Watch his timing in the yacht seduction scene, and the way his character plays with her naivete. \"Water polo? Isn't that terribly dangerous?\" asks Monroe. Curtis: \"I'll say! I had two ponies drown under me.\"\n",
      "\n",
      "Watch, too, for Wilder's knack of hiding bold sexual symbolism in plain view. When Monroe first kisses Curtis while they're both horizontal on the couch, notice how his patent-leather shoe rises phallically in the mid-distance behind her. Does Wilder intend this effect? Undoubtedly, because a little later, after the frigid millionaire confesses he has been cured, he says, \"I've got a funny sensation in my toes--like someone was barbecuing them over a slow flame.\" Monroe's reply: \"Let's throw another log on the fire.\"\n",
      "\n",
      "Jack Lemmon gets the fuzzy end of the lollipop in the parallel relationship. The screenplay by Wilder and I.A.L. Diamond is Shakespearean in the way it cuts between high and low comedy, between the heroes and the clowns. The Curtis character is able to complete his round trip through gender, but Lemmon gets stuck halfway, so that Curtis connects with Monroe in the upstairs love story while Lemmon is downstairs in the screwball department with Joe E. Brown. Their romance is frankly cynical: Brown's character gets married and divorced the way other men date, and Lemmon plans to marry him for the alimony.\n",
      "\n",
      "But they both have so much fun in their courtship! While Curtis and Monroe are on Brown's yacht, Lemmon and Brown are dancing with such perfect timing that a rose in Lemmon's teeth ends up in Brown's. Lemmon has a hilarious scene the morning after his big date, laying on his bed, still in drag, playing with castanets as he announces his engagement. (Curtis: \"What are you going to do on your honeymoon?\" Lemmon: \"He wants to go to the Riviera, but I kinda lean toward Niagara Falls.\") Both Curtis and Lemmon are practicing cruel deceptions--Curtis has Monroe thinking she's met a millionaire, and Brown thinks Lemmon is a woman--but the film dances free before anyone gets hurt. Both Monroe and Brown learn the truth and don't care, and after Lemmon reveals he's a man, Brown delivers the best curtain line in the movies. If you've seen the movie, you know what it is, and if you haven't, you deserve to hear it for the first time from him.\n"
     ]
    }
   ],
   "source": [
    "files = [file for file in glob.glob(\"movies/*\")]\n",
    "#for file in files[:1]:\n",
    "with open(files[-3],'r',encoding='cp1252') as f:\n",
    "    cont = f.read()\n",
    "    print(cont)"
   ]
  },
  {
   "cell_type": "markdown",
   "id": "headed-suspension",
   "metadata": {},
   "source": [
    "## 2. Tokenize your movie file and print the following"
   ]
  },
  {
   "cell_type": "markdown",
   "id": "double-french",
   "metadata": {},
   "source": [
    "### a. How many sentences in the file?"
   ]
  },
  {
   "cell_type": "code",
   "execution_count": 3,
   "id": "entertaining-gentleman",
   "metadata": {},
   "outputs": [],
   "source": [
    "from nltk.tokenize import sent_tokenize"
   ]
  },
  {
   "cell_type": "code",
   "execution_count": 4,
   "id": "pursuant-preliminary",
   "metadata": {},
   "outputs": [
    {
     "data": {
      "text/plain": [
       "77"
      ]
     },
     "execution_count": 4,
     "metadata": {},
     "output_type": "execute_result"
    }
   ],
   "source": [
    "st=sent_tokenize(cont)\n",
    "len(st)"
   ]
  },
  {
   "cell_type": "markdown",
   "id": "conscious-combining",
   "metadata": {},
   "source": [
    "### b. How many words in the file?"
   ]
  },
  {
   "cell_type": "code",
   "execution_count": 5,
   "id": "elder-distinction",
   "metadata": {},
   "outputs": [],
   "source": [
    "from nltk.tokenize import word_tokenize"
   ]
  },
  {
   "cell_type": "code",
   "execution_count": 6,
   "id": "smart-directory",
   "metadata": {},
   "outputs": [
    {
     "data": {
      "text/plain": [
       "1289"
      ]
     },
     "execution_count": 6,
     "metadata": {},
     "output_type": "execute_result"
    }
   ],
   "source": [
    "tokenizer = nltk.tokenize.WhitespaceTokenizer()\n",
    "tok = tokenizer.tokenize(cont)\n",
    "len(tok)"
   ]
  },
  {
   "cell_type": "markdown",
   "id": "rough-america",
   "metadata": {},
   "source": [
    "### c. What are the top 10 words and their counts?"
   ]
  },
  {
   "cell_type": "code",
   "execution_count": 7,
   "id": "labeled-demonstration",
   "metadata": {},
   "outputs": [
    {
     "data": {
      "text/plain": [
       "[('the', 68),\n",
       " ('and', 39),\n",
       " ('a', 33),\n",
       " ('in', 26),\n",
       " ('of', 22),\n",
       " ('to', 22),\n",
       " ('is', 21),\n",
       " ('as', 19),\n",
       " ('Curtis', 15),\n",
       " ('Monroe', 14)]"
      ]
     },
     "execution_count": 7,
     "metadata": {},
     "output_type": "execute_result"
    }
   ],
   "source": [
    "tokfd=FreqDist(tok)\n",
    "tokfd.most_common(10)"
   ]
  },
  {
   "cell_type": "markdown",
   "id": "brilliant-terminology",
   "metadata": {},
   "source": [
    "### d. How many different POS tags are represented in this file?"
   ]
  },
  {
   "cell_type": "code",
   "execution_count": 8,
   "id": "western-error",
   "metadata": {
    "scrolled": true
   },
   "outputs": [
    {
     "data": {
      "text/plain": [
       "23"
      ]
     },
     "execution_count": 8,
     "metadata": {},
     "output_type": "execute_result"
    }
   ],
   "source": [
    "tag = []\n",
    "tem = []\n",
    "tok = [w for w in tok if not w in stop_words]   \n",
    "tagged = nltk.pos_tag(tok)\n",
    "for i in tagged:\n",
    "    (word,pos)=i\n",
    "    tag.append(pos)\n",
    "    \n",
    "for j in tag:\n",
    "    if j not in tem:\n",
    "        tem.append(j)\n",
    "len(tem)        "
   ]
  },
  {
   "cell_type": "markdown",
   "id": "removable-horizontal",
   "metadata": {},
   "source": [
    "### e. What are the top 10 POS tags and their counts?"
   ]
  },
  {
   "cell_type": "code",
   "execution_count": 9,
   "id": "minor-helping",
   "metadata": {},
   "outputs": [
    {
     "data": {
      "text/plain": [
       "[(('Curtis', 'NNP'), 15),\n",
       " (('Monroe', 'NNP'), 14),\n",
       " (('Lemmon', 'NNP'), 13),\n",
       " (('The', 'DT'), 7),\n",
       " (('It', 'PRP'), 6),\n",
       " (('like', 'IN'), 6),\n",
       " (('She', 'PRP'), 5),\n",
       " (('gets', 'VBZ'), 5),\n",
       " (('Wilder', 'NNP'), 5),\n",
       " (('seems', 'VBZ'), 4)]"
      ]
     },
     "execution_count": 9,
     "metadata": {},
     "output_type": "execute_result"
    }
   ],
   "source": [
    "tokpos = FreqDist(tagged)\n",
    "tokpos.most_common(10)"
   ]
  },
  {
   "cell_type": "markdown",
   "id": "assisted-sustainability",
   "metadata": {},
   "source": [
    "### f. How many nouns in the file?"
   ]
  },
  {
   "cell_type": "code",
   "execution_count": 10,
   "id": "failing-bumper",
   "metadata": {},
   "outputs": [
    {
     "name": "stdout",
     "output_type": "stream",
     "text": [
      "279\n"
     ]
    }
   ],
   "source": [
    "n=0\n",
    "for i in tokpos.keys():\n",
    "    (word,pos)=i\n",
    "    if pos == 'NN' or pos == 'NNS' or pos == 'NNP' or pos == 'NNPS':\n",
    "        n+=1\n",
    "print(n)"
   ]
  },
  {
   "cell_type": "markdown",
   "id": "flexible-thousand",
   "metadata": {},
   "source": [
    "### g. How many verbs in the file?"
   ]
  },
  {
   "cell_type": "code",
   "execution_count": 11,
   "id": "tribal-coupon",
   "metadata": {},
   "outputs": [
    {
     "name": "stdout",
     "output_type": "stream",
     "text": [
      "108\n"
     ]
    }
   ],
   "source": [
    "v=0\n",
    "for i in tokpos.keys():\n",
    "    (word,pos)=i\n",
    "    if pos == 'VB' or pos == 'VBD' or pos == 'VBN' or pos == 'VBP' or pos == 'VBZ':\n",
    "        v+=1\n",
    "print(v)        "
   ]
  },
  {
   "cell_type": "markdown",
   "id": "residential-founder",
   "metadata": {},
   "source": [
    "### h. How many adjectives in the file?"
   ]
  },
  {
   "cell_type": "code",
   "execution_count": 12,
   "id": "photographic-polyester",
   "metadata": {},
   "outputs": [
    {
     "data": {
      "text/plain": [
       "115"
      ]
     },
     "execution_count": 12,
     "metadata": {},
     "output_type": "execute_result"
    }
   ],
   "source": [
    "adj = []\n",
    "for i in tokpos.keys():\n",
    "    (word,pos)=i\n",
    "    if pos == 'JJ' or pos == 'JJR' or pos == 'JJS':\n",
    "        adj.append(i)\n",
    "len(adj)        "
   ]
  },
  {
   "cell_type": "markdown",
   "id": "interracial-recycling",
   "metadata": {},
   "source": [
    "### i. How many adverbs in the file?"
   ]
  },
  {
   "cell_type": "code",
   "execution_count": 13,
   "id": "backed-substance",
   "metadata": {},
   "outputs": [
    {
     "data": {
      "text/plain": [
       "29"
      ]
     },
     "execution_count": 13,
     "metadata": {},
     "output_type": "execute_result"
    }
   ],
   "source": [
    "adv=[]\n",
    "for i in tokpos.keys():\n",
    "    (word,pos)=i\n",
    "    if pos == 'RB' or pos == 'RBR' or pos == 'RBS' or pos == 'BP':\n",
    "        adv.append(i)\n",
    "len(adv)        "
   ]
  },
  {
   "cell_type": "markdown",
   "id": "legislative-westminster",
   "metadata": {},
   "source": [
    "### j. What is the most frequent adverb?"
   ]
  },
  {
   "cell_type": "code",
   "execution_count": 14,
   "id": "adaptive-notice",
   "metadata": {},
   "outputs": [
    {
     "data": {
      "text/plain": [
       "[(('still', 'RB'), 1)]"
      ]
     },
     "execution_count": 14,
     "metadata": {},
     "output_type": "execute_result"
    }
   ],
   "source": [
    "adv = FreqDist(adv)\n",
    "adv.most_common(1)"
   ]
  },
  {
   "cell_type": "markdown",
   "id": "coordinate-cambridge",
   "metadata": {},
   "source": [
    "### k. What is the most frequent adjective?"
   ]
  },
  {
   "cell_type": "code",
   "execution_count": 15,
   "id": "bottom-leisure",
   "metadata": {},
   "outputs": [
    {
     "data": {
      "text/plain": [
       "[(('icon,', 'JJ'), 1)]"
      ]
     },
     "execution_count": 15,
     "metadata": {},
     "output_type": "execute_result"
    }
   ],
   "source": [
    "adj = FreqDist(adj)\n",
    "adj.most_common(1)"
   ]
  }
 ],
 "metadata": {
  "kernelspec": {
   "display_name": "Python 3",
   "language": "python",
   "name": "python3"
  },
  "language_info": {
   "codemirror_mode": {
    "name": "ipython",
    "version": 3
   },
   "file_extension": ".py",
   "mimetype": "text/x-python",
   "name": "python",
   "nbconvert_exporter": "python",
   "pygments_lexer": "ipython3",
   "version": "3.9.1"
  }
 },
 "nbformat": 4,
 "nbformat_minor": 5
}
