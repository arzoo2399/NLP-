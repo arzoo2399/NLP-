{
 "cells": [
  {
   "cell_type": "code",
   "execution_count": 1,
   "id": "together-gallery",
   "metadata": {},
   "outputs": [],
   "source": [
    "import nltk\n",
    "from nltk.tree import Tree\n",
    "from nltk.tokenize import word_tokenize\n",
    "from IPython.display import display"
   ]
  },
  {
   "cell_type": "markdown",
   "id": "reflected-cricket",
   "metadata": {},
   "source": [
    "### EXERCISE-1: Build Grammar and Parser"
   ]
  },
  {
   "cell_type": "markdown",
   "id": "straight-facility",
   "metadata": {},
   "source": [
    "##### example "
   ]
  },
  {
   "cell_type": "code",
   "execution_count": 2,
   "id": "under-candidate",
   "metadata": {},
   "outputs": [],
   "source": [
    "grammar1 = nltk.CFG.fromstring(\"\"\"\n",
    "S -> NP VP\n",
    "PP -> P NP\n",
    "NP -> Det N | Det N PP | 'I'\n",
    "VP -> V NP | VP PP\n",
    "Det -> 'an' | 'my'\n",
    "N -> 'elephant' | 'pajamas'\n",
    "V -> 'shot'\n",
    "P -> 'in'\n",
    "\"\"\")"
   ]
  },
  {
   "cell_type": "markdown",
   "id": "adopted-salvation",
   "metadata": {},
   "source": [
    "#### 1.Using NLTK's nltk.CFG.fromstring() method, build a CFG named grammar1. The grammar should cover all of the sentences below and their tree structure as presented on this page. The grammar's start symbol should be 'S': make sure that an S rule (ex. S -> NP VP) is the very top rule in your list of rules."
   ]
  },
  {
   "cell_type": "markdown",
   "id": "ideal-equality",
   "metadata": {},
   "source": [
    "#### the big bully punched the tiny nerdy kid after school"
   ]
  },
  {
   "attachments": {
    "image.png": {
     "image/png": "[encoded data removed]"
    }
   },
   "cell_type": "markdown",
   "id": "vertical-nomination",
   "metadata": {},
   "source": [
    "![image.png](attachment:image.png)"
   ]
  },
  {
   "cell_type": "code",
   "execution_count": 3,
   "id": "bright-carol",
   "metadata": {},
   "outputs": [],
   "source": [
    "groucho_grammar1 = nltk.CFG.fromstring(\"\"\"\n",
    "S -> NP VP\n",
    "NP -> Det ADJ N | Det ADJ ADJ N | N\n",
    "VP -> V NP|VP PP\n",
    "PP -> P NP \n",
    "Det -> 'the' | 'the'\n",
    "ADJ -> 'big' | 'tiny' | 'nerdy'\n",
    "N -> 'bully' | 'kid' | 'school'\n",
    "V -> 'punched'\n",
    "P -> 'after'\n",
    "\"\"\")"
   ]
  },
  {
   "cell_type": "code",
   "execution_count": 4,
   "id": "exact-future",
   "metadata": {},
   "outputs": [
    {
     "name": "stdout",
     "output_type": "stream",
     "text": [
      "(S\n",
      "  (NP (Det the) (ADJ big) (N bully))\n",
      "  (VP\n",
      "    (VP (V punched) (NP (Det the) (ADJ tiny) (ADJ nerdy) (N kid)))\n",
      "    (PP (P after) (NP (N school)))))\n"
     ]
    }
   ],
   "source": [
    "sent1 = word_tokenize(\"the big bully punched the tiny nerdy kid after school\")\n",
    "parser = nltk.ChartParser(groucho_grammar1)\n",
    "for tree in parser.parse(sent1):\n",
    "    print(tree)"
   ]
  },
  {
   "cell_type": "code",
   "execution_count": 5,
   "id": "cross-carnival",
   "metadata": {},
   "outputs": [
    {
     "name": "stdout",
     "output_type": "stream",
     "text": [
      "                       S                                 \n",
      "      _________________|_________                         \n",
      "     |                           VP                      \n",
      "     |                  _________|______________          \n",
      "     |                 VP                       PP       \n",
      "     |            _____|___                 ____|____     \n",
      "     NP          |         NP              |         NP  \n",
      "  ___|____       |      ___|__________     |         |    \n",
      "Det ADJ   N      V    Det ADJ   ADJ   N    P         N   \n",
      " |   |    |      |     |   |     |    |    |         |    \n",
      "the big bully punched the tiny nerdy kid after     school\n",
      "\n"
     ]
    }
   ],
   "source": [
    "np1 =nltk.Tree.fromstring('(S(NP (Det the) (ADJ big) (N bully))(VP(VP (V punched) (NP (Det the) (ADJ tiny) (ADJ nerdy) (N kid)))(PP (P after) (NP (N school)))))')\n",
    "np1.pretty_print()"
   ]
  },
  {
   "cell_type": "markdown",
   "id": "suburban-algeria",
   "metadata": {},
   "source": [
    "#### he gave the book to his sister"
   ]
  },
  {
   "attachments": {
    "image.png": {
     "image/png": "[encoded data removed]"
    }
   },
   "cell_type": "markdown",
   "id": "prescribed-multimedia",
   "metadata": {},
   "source": [
    "![image.png](attachment:image.png)"
   ]
  },
  {
   "cell_type": "code",
   "execution_count": 6,
   "id": "ideal-lawyer",
   "metadata": {},
   "outputs": [],
   "source": [
    "groucho_grammar2 = nltk.CFG.fromstring(\"\"\"\n",
    "S -> NP VP\n",
    "NP -> PRO | Det N | Det N\n",
    "VP -> V NP PP\n",
    "PP -> P NP \n",
    "Det -> 'the' | 'his'\n",
    "PRO -> 'he' \n",
    "N -> 'book' | 'sister' \n",
    "V -> 'gave' \n",
    "P -> 'to' \n",
    "\"\"\")"
   ]
  },
  {
   "cell_type": "code",
   "execution_count": 7,
   "id": "distant-stretch",
   "metadata": {},
   "outputs": [
    {
     "name": "stdout",
     "output_type": "stream",
     "text": [
      "(S\n",
      "  (NP (PRO he))\n",
      "  (VP\n",
      "    (V gave)\n",
      "    (NP (Det the) (N book))\n",
      "    (PP (P to) (NP (Det his) (N sister)))))\n"
     ]
    }
   ],
   "source": [
    "sent2 = word_tokenize(\"he gave the book to his sister\")\n",
    "parser = nltk.ChartParser(groucho_grammar2)\n",
    "for i in parser.parse(sent2):4\n",
    "    print(i)"
   ]
  },
  {
   "cell_type": "code",
   "execution_count": 8,
   "id": "global-slovakia",
   "metadata": {},
   "outputs": [
    {
     "name": "stdout",
     "output_type": "stream",
     "text": [
      "     S                                  \n",
      "  ___|____________                       \n",
      " |                VP                    \n",
      " |    ____________|________              \n",
      " |   |        |            PP           \n",
      " |   |        |         ___|___          \n",
      " NP  |        NP       |       NP       \n",
      " |   |     ___|___     |    ___|____     \n",
      "PRO  V   Det      N    P  Det       N   \n",
      " |   |    |       |    |   |        |    \n",
      " he gave the     book  to his     sister\n",
      "\n"
     ]
    }
   ],
   "source": [
    "np2 =nltk.Tree.fromstring('(S(NP (PRO he))(VP(V gave)(NP (Det the) (N book))(PP (P to) (NP (Det his) (N sister)))))')\n",
    "np2.pretty_print()"
   ]
  },
  {
   "cell_type": "markdown",
   "id": "sustained-turkey",
   "metadata": {},
   "source": [
    "#### he gave the book that I had given him t to his sister"
   ]
  },
  {
   "attachments": {
    "image.png": {
     "image/png": "[encoded data removed]"
    }
   },
   "cell_type": "markdown",
   "id": "equipped-lunch",
   "metadata": {},
   "source": [
    "![image.png](attachment:image.png)"
   ]
  },
  {
   "cell_type": "code",
   "execution_count": 9,
   "id": "accurate-chicken",
   "metadata": {},
   "outputs": [],
   "source": [
    "groucho_grammar3 = nltk.CFG.fromstring(\"\"\"\n",
    "S -> NP VP | NP AUX VP \n",
    "NP -> PRO | NP CP | Det N | PRO | PRO | PRO | N |Det N\n",
    "VP -> V NP PP | V NP NP\n",
    "CP -> COMP S\n",
    "PP -> P NP \n",
    "Det -> 'the' | 'his' \n",
    "PRO -> 'he' | 'I' | 'him' \n",
    "N -> 'book' | 't' | 'sister'  \n",
    "V -> 'gave' | 'given'  \n",
    "COMP -> 'that'\n",
    "AUX -> 'had' \n",
    "P -> 'to'\n",
    "\"\"\")"
   ]
  },
  {
   "cell_type": "code",
   "execution_count": 10,
   "id": "piano-atmosphere",
   "metadata": {},
   "outputs": [
    {
     "name": "stdout",
     "output_type": "stream",
     "text": [
      "(S\n",
      "  (NP (PRO he))\n",
      "  (VP\n",
      "    (V gave)\n",
      "    (NP\n",
      "      (NP (Det the) (N book))\n",
      "      (CP\n",
      "        (COMP that)\n",
      "        (S\n",
      "          (NP (PRO I))\n",
      "          (AUX had)\n",
      "          (VP (V given) (NP (PRO him)) (NP (N t))))))\n",
      "    (PP (P to) (NP (Det his) (N sister)))))\n"
     ]
    }
   ],
   "source": [
    "sent3 = word_tokenize(\"he gave the book that I had given him t to his sister\")\n",
    "parser = nltk.ChartParser(groucho_grammar3)\n",
    "for i in parser.parse(sent3):\n",
    "    print(i)"
   ]
  },
  {
   "cell_type": "code",
   "execution_count": 11,
   "id": "residential-census",
   "metadata": {},
   "outputs": [
    {
     "name": "stdout",
     "output_type": "stream",
     "text": [
      "                  S                                                \n",
      "  ________________|_____________                                    \n",
      " |                              VP                                 \n",
      " |    __________________________|_____________________              \n",
      " |   |                      NP                        |            \n",
      " |   |         _____________|___                      |             \n",
      " |   |        |                 CP                    |            \n",
      " |   |        |         ________|____                 |             \n",
      " |   |        |        |             S                |            \n",
      " |   |        |        |     ________|____            |             \n",
      " |   |        |        |    |   |         VP          PP           \n",
      " |   |        |        |    |   |     ____|___     ___|___          \n",
      " NP  |        NP       |    NP  |    |    NP  NP  |       NP       \n",
      " |   |     ___|___     |    |   |    |    |   |   |    ___|____     \n",
      "PRO  V   Det      N   COMP PRO AUX   V   PRO  N   P  Det       N   \n",
      " |   |    |       |    |    |   |    |    |   |   |   |        |    \n",
      " he gave the     book that  I  had given him  t   to his     sister\n",
      "\n"
     ]
    }
   ],
   "source": [
    "np3 =nltk.Tree.fromstring('(S(NP (PRO he))(VP(V gave)(NP(NP (Det the) (N book))(CP(COMP that)(S(NP (PRO I))(AUX had)(VP (V given) (NP (PRO him)) (NP (N t))))))(PP (P to) (NP (Det his) (N sister)))))')\n",
    "np3.pretty_print()"
   ]
  },
  {
   "cell_type": "markdown",
   "id": "mechanical-cowboy",
   "metadata": {},
   "source": [
    "#### Homer and Marge are poor but very happy"
   ]
  },
  {
   "attachments": {
    "image.png": {
     "image/png": "[encoded data removed]"
    }
   },
   "cell_type": "markdown",
   "id": "filled-habitat",
   "metadata": {},
   "source": [
    "![image.png](attachment:image.png)"
   ]
  },
  {
   "cell_type": "code",
   "execution_count": 12,
   "id": "universal-madonna",
   "metadata": {},
   "outputs": [],
   "source": [
    "groucho_grammar4 = nltk.CFG.fromstring(\"\"\"\n",
    "S -> NP VP \n",
    "NP -> NP CONJ NP | N | N \n",
    "VP -> V ADJP \n",
    "ADJP -> ADJP CONJ ADJP | ADJ | ADV ADJ \n",
    "N -> 'Homer' | 'Marge'  \n",
    "V -> 'are'   \n",
    "CONJ -> 'and' | 'but'\n",
    "ADJ -> 'poor' | 'happy'\n",
    "ADV -> 'very'\n",
    "\"\"\")"
   ]
  },
  {
   "cell_type": "code",
   "execution_count": 13,
   "id": "classical-determination",
   "metadata": {},
   "outputs": [
    {
     "name": "stdout",
     "output_type": "stream",
     "text": [
      "(S\n",
      "  (NP (NP (N Homer)) (CONJ and) (NP (N Marge)))\n",
      "  (VP\n",
      "    (V are)\n",
      "    (ADJP (ADJP (ADJ poor)) (CONJ but) (ADJP (ADV very) (ADJ happy)))))\n"
     ]
    }
   ],
   "source": [
    "sent4 = word_tokenize(\"Homer and Marge are poor but very happy\")\n",
    "parser = nltk.ChartParser(groucho_grammar4)\n",
    "for i in parser.parse(sent4):\n",
    "    print(i)"
   ]
  },
  {
   "cell_type": "code",
   "execution_count": 14,
   "id": "incident-objective",
   "metadata": {},
   "outputs": [
    {
     "name": "stdout",
     "output_type": "stream",
     "text": [
      "                  S                           \n",
      "        __________|___                         \n",
      "       |              VP                      \n",
      "       |           ___|____                    \n",
      "       NP         |       ADJP                \n",
      "   ____|_____     |    ____|_________          \n",
      "  NP   |     NP   |  ADJP  |        ADJP      \n",
      "  |    |     |    |   |    |     ____|_____    \n",
      "  N   CONJ   N    V  ADJ  CONJ ADV        ADJ \n",
      "  |    |     |    |   |    |    |          |   \n",
      "Homer and  Marge are poor but  very      happy\n",
      "\n"
     ]
    }
   ],
   "source": [
    "np4 =nltk.Tree.fromstring('(S(NP (NP (N Homer)) (CONJ and) (NP (N Marge)))(VP(V are)(ADJP (ADJP (ADJ poor)) (CONJ but) (ADJP (ADV very) (ADJ happy)))))')\n",
    "np4.pretty_print()"
   ]
  },
  {
   "cell_type": "markdown",
   "id": "growing-disabled",
   "metadata": {},
   "source": [
    "#### Homer and his friends from work drank and sang in the bar"
   ]
  },
  {
   "attachments": {
    "image.png": {
     "image/png": "[encoded data removed]"
    }
   },
   "cell_type": "markdown",
   "id": "designing-algebra",
   "metadata": {},
   "source": [
    "![image.png](attachment:image.png)"
   ]
  },
  {
   "cell_type": "code",
   "execution_count": 15,
   "id": "answering-productivity",
   "metadata": {},
   "outputs": [],
   "source": [
    "groucho_grammar5 = nltk.CFG.fromstring(\"\"\"\n",
    "S -> NP VP \n",
    "NP -> NP CONJ NP | N | NP PP | Det N | N | Det N \n",
    "VP -> VP PP | VP CONJ VP | V | V \n",
    "PP -> P NP | P NP \n",
    "N -> 'Homer' | 'friends' | 'work' | 'bar'   \n",
    "V -> 'drank' | 'sang'  \n",
    "CONJ -> 'and' | 'and'\n",
    "Det -> 'his' | 'the'\n",
    "P -> 'from' | 'in'\n",
    "\"\"\")"
   ]
  },
  {
   "cell_type": "code",
   "execution_count": 16,
   "id": "unknown-currency",
   "metadata": {},
   "outputs": [
    {
     "name": "stdout",
     "output_type": "stream",
     "text": [
      "(S\n",
      "  (NP\n",
      "    (NP (NP (N Homer)) (CONJ and) (NP (Det his) (N friends)))\n",
      "    (PP (P from) (NP (N work))))\n",
      "  (VP\n",
      "    (VP (VP (V drank)) (CONJ and) (VP (V sang)))\n",
      "    (PP (P in) (NP (Det the) (N bar)))))\n",
      "(S\n",
      "  (NP\n",
      "    (NP (N Homer))\n",
      "    (CONJ and)\n",
      "    (NP (NP (Det his) (N friends)) (PP (P from) (NP (N work)))))\n",
      "  (VP\n",
      "    (VP (VP (V drank)) (CONJ and) (VP (V sang)))\n",
      "    (PP (P in) (NP (Det the) (N bar)))))\n",
      "(S\n",
      "  (NP\n",
      "    (NP (NP (N Homer)) (CONJ and) (NP (Det his) (N friends)))\n",
      "    (PP (P from) (NP (N work))))\n",
      "  (VP\n",
      "    (VP (V drank))\n",
      "    (CONJ and)\n",
      "    (VP (VP (V sang)) (PP (P in) (NP (Det the) (N bar))))))\n",
      "(S\n",
      "  (NP\n",
      "    (NP (N Homer))\n",
      "    (CONJ and)\n",
      "    (NP (NP (Det his) (N friends)) (PP (P from) (NP (N work)))))\n",
      "  (VP\n",
      "    (VP (V drank))\n",
      "    (CONJ and)\n",
      "    (VP (VP (V sang)) (PP (P in) (NP (Det the) (N bar))))))\n"
     ]
    }
   ],
   "source": [
    "sent5 = word_tokenize(\"Homer and his friends from work drank and sang in the bar\")\n",
    "parser = nltk.ChartParser(groucho_grammar5)\n",
    "for i in parser.parse(sent5):\n",
    "    print(i)"
   ]
  },
  {
   "cell_type": "code",
   "execution_count": 17,
   "id": "trained-estimate",
   "metadata": {},
   "outputs": [
    {
     "name": "stdout",
     "output_type": "stream",
     "text": [
      "                                         S                                  \n",
      "             ____________________________|_______________                    \n",
      "            NP                                           |                  \n",
      "   _________|_______________                             |                   \n",
      "  |    |                    NP                           VP                 \n",
      "  |    |         ___________|________                ____|________           \n",
      "  |    |        |                    PP             VP            PP        \n",
      "  |    |        |                ____|___       ____|____      ___|___       \n",
      "  NP   |        NP              |        NP    VP   |    VP   |       NP    \n",
      "  |    |     ___|_____          |        |     |    |    |    |    ___|___   \n",
      "  N   CONJ Det        N         P        N     V   CONJ  V    P  Det      N \n",
      "  |    |    |         |         |        |     |    |    |    |   |       |  \n",
      "Homer and  his     friends     from     work drank and  sang  in the     bar\n",
      "\n"
     ]
    }
   ],
   "source": [
    "np5 =nltk.Tree.fromstring('(S(NP(NP (N Homer))(CONJ and)(NP (NP (Det his) (N friends)) (PP (P from) (NP (N work)))))(VP(VP (VP (V drank)) (CONJ and) (VP (V sang)))(PP (P in) (NP (Det the) (N bar)))))')\n",
    "np5.pretty_print()"
   ]
  },
  {
   "cell_type": "markdown",
   "id": "drawn-record",
   "metadata": {},
   "source": [
    "#### Lisa told her brother that she liked peanut butter very much\n",
    "\n"
   ]
  },
  {
   "attachments": {
    "image.png": {
     "image/png": "[encoded data removed]"
    }
   },
   "cell_type": "markdown",
   "id": "behavioral-lambda",
   "metadata": {},
   "source": [
    "![image.png](attachment:image.png)"
   ]
  },
  {
   "cell_type": "code",
   "execution_count": 18,
   "id": "fitted-beverage",
   "metadata": {},
   "outputs": [],
   "source": [
    "groucho_grammar6 = nltk.CFG.fromstring(\"\"\"\n",
    "S -> NP VP | NP VP \n",
    "NP -> N | Det N | PRO | N N \n",
    "VP -> V NP CP | VP ADVP | V NP \n",
    "ADVP -> ADV ADV \n",
    "CP -> COMP S \n",
    "N -> 'Lisa' | 'brother' | 'peanut' | 'butter'    \n",
    "V -> 'told' | 'liked'  \n",
    "COMP -> 'that' \n",
    "Det -> 'her' \n",
    "PRO -> 'she' \n",
    "ADV -> 'very' | 'much'\n",
    "\"\"\")"
   ]
  },
  {
   "cell_type": "code",
   "execution_count": 19,
   "id": "clean-hollywood",
   "metadata": {},
   "outputs": [
    {
     "name": "stdout",
     "output_type": "stream",
     "text": [
      "(S\n",
      "  (NP (N Lisa))\n",
      "  (VP\n",
      "    (VP\n",
      "      (V told)\n",
      "      (NP (Det her) (N brother))\n",
      "      (CP\n",
      "        (COMP that)\n",
      "        (S (NP (PRO she)) (VP (V liked) (NP (N peanut) (N butter))))))\n",
      "    (ADVP (ADV very) (ADV much))))\n",
      "(S\n",
      "  (NP (N Lisa))\n",
      "  (VP\n",
      "    (V told)\n",
      "    (NP (Det her) (N brother))\n",
      "    (CP\n",
      "      (COMP that)\n",
      "      (S\n",
      "        (NP (PRO she))\n",
      "        (VP\n",
      "          (VP (V liked) (NP (N peanut) (N butter)))\n",
      "          (ADVP (ADV very) (ADV much)))))))\n"
     ]
    }
   ],
   "source": [
    "sent6 = word_tokenize(\"Lisa told her brother that she liked peanut butter very much\")\n",
    "parser = nltk.ChartParser(groucho_grammar6)\n",
    "for i in parser.parse(sent6):\n",
    "    print(i)"
   ]
  },
  {
   "cell_type": "code",
   "execution_count": 20,
   "id": "comfortable-motel",
   "metadata": {},
   "outputs": [
    {
     "name": "stdout",
     "output_type": "stream",
     "text": [
      "      S                                                                  \n",
      "  ____|____                                                               \n",
      " |         VP                                                            \n",
      " |     ____|____________________                                          \n",
      " |    |        |                CP                                       \n",
      " |    |        |            ____|__________                               \n",
      " |    |        |           |               S                             \n",
      " |    |        |           |     __________|__________                    \n",
      " |    |        |           |    |                     VP                 \n",
      " |    |        |           |    |           __________|__________         \n",
      " |    |        |           |    |          VP                    |       \n",
      " |    |        |           |    |     _____|_____                |        \n",
      " NP   |        NP          |    NP   |           NP             ADVP     \n",
      " |    |     ___|_____      |    |    |      _____|____       ____|____    \n",
      " N    V   Det        N    COMP PRO   V     N          N    ADV       ADV \n",
      " |    |    |         |     |    |    |     |          |     |         |   \n",
      "Lisa told her     brother that she liked peanut     butter very      much\n",
      "\n"
     ]
    }
   ],
   "source": [
    "np6 =nltk.Tree.fromstring('(S(NP (N Lisa))(VP(V told)(NP (Det her) (N brother))(CP(COMP that)(S(NP (PRO she))(VP(VP (V liked) (NP (N peanut) (N butter)))(ADVP (ADV very) (ADV much)))))))')\n",
    "np6.pretty_print()"
   ]
  },
  {
   "cell_type": "markdown",
   "id": "adjacent-multiple",
   "metadata": {},
   "source": [
    "#### 2.Once a grammar is built, you can print it. Also, you can extract a set of production rules with the .productions() method. Unlike the .productions() method called on a Tree object, the resulting list should be duplicate-free. As before, each rule in the list is a production rule type. A rule has a left-hand side node (the parent node), which you can getto using the .lhs() method; the actual string label for the node can be accessed by calling .symbol() on the node object."
   ]
  },
  {
   "cell_type": "code",
   "execution_count": 21,
   "id": "answering-batch",
   "metadata": {},
   "outputs": [],
   "source": [
    "grammer3 = nltk.CFG.fromstring(\"\"\" \n",
    "S -> NP VP\n",
    "NP -> N\n",
    "VP -> V\n",
    "N -> 'Homer'\n",
    "V -> 'sleeps'\n",
    "\"\"\")"
   ]
  },
  {
   "cell_type": "code",
   "execution_count": 22,
   "id": "every-facility",
   "metadata": {},
   "outputs": [
    {
     "name": "stdout",
     "output_type": "stream",
     "text": [
      "Grammar with 5 productions (start state = S)\n",
      "    S -> NP VP\n",
      "    NP -> N\n",
      "    VP -> V\n",
      "    N -> 'Homer'\n",
      "    V -> 'sleeps'\n"
     ]
    }
   ],
   "source": [
    "print(grammer3)"
   ]
  },
  {
   "cell_type": "code",
   "execution_count": 23,
   "id": "forbidden-egypt",
   "metadata": {},
   "outputs": [
    {
     "data": {
      "text/plain": [
       "[S -> NP VP, NP -> N, VP -> V, N -> 'Homer', V -> 'sleeps']"
      ]
     },
     "execution_count": 23,
     "metadata": {},
     "output_type": "execute_result"
    }
   ],
   "source": [
    "grammer3.productions()"
   ]
  },
  {
   "cell_type": "code",
   "execution_count": 24,
   "id": "special-river",
   "metadata": {},
   "outputs": [
    {
     "data": {
      "text/plain": [
       "V -> 'sleeps'"
      ]
     },
     "execution_count": 24,
     "metadata": {},
     "output_type": "execute_result"
    }
   ],
   "source": [
    "last_rule = grammer3.productions()[-1]\n",
    "last_rule"
   ]
  },
  {
   "cell_type": "code",
   "execution_count": 25,
   "id": "quality-jefferson",
   "metadata": {},
   "outputs": [
    {
     "data": {
      "text/plain": [
       "True"
      ]
     },
     "execution_count": 25,
     "metadata": {},
     "output_type": "execute_result"
    }
   ],
   "source": [
    "last_rule.is_lexical()"
   ]
  },
  {
   "cell_type": "code",
   "execution_count": 26,
   "id": "genetic-watershed",
   "metadata": {},
   "outputs": [
    {
     "data": {
      "text/plain": [
       "V"
      ]
     },
     "execution_count": 26,
     "metadata": {},
     "output_type": "execute_result"
    }
   ],
   "source": [
    "last_rule.lhs()"
   ]
  },
  {
   "cell_type": "code",
   "execution_count": 27,
   "id": "peaceful-championship",
   "metadata": {},
   "outputs": [
    {
     "data": {
      "text/plain": [
       "'V'"
      ]
     },
     "execution_count": 27,
     "metadata": {},
     "output_type": "execute_result"
    }
   ],
   "source": [
    "last_rule.lhs().symbol()"
   ]
  },
  {
   "cell_type": "markdown",
   "id": "optimum-clinton",
   "metadata": {},
   "source": [
    "#### 3.Explore the rules and answer the following questions."
   ]
  },
  {
   "cell_type": "code",
   "execution_count": 28,
   "id": "photographic-favorite",
   "metadata": {},
   "outputs": [],
   "source": [
    "Grammar_all = nltk.CFG.fromstring(\"\"\"\n",
    "S -> NP VP | NP AUX VP\n",
    "NP -> Det ADJ N | N | PRO | Det N | PRO | NP CP | PRO | NP CONJ | NP PP | N N \n",
    "VP -> V NP | VP PP | V NP PP | V NP | V ADJP | VP PP | VP CONJ | V NP CP | VP ADVP \n",
    "CP -> COMP S\n",
    "PP -> P NP\n",
    "Det -> 'the' | 'his' | 'her'\n",
    "ADJ -> 'big' | 'tiny' | 'nerdy' | 'poor' | 'happy'\n",
    "ADV -> 'very' | 'much'\n",
    "PRO -> 'he' | 'I' | 'him' | 'she'\n",
    "ADJP -> ADJP CONJ | ADJ\n",
    "ADVP -> ADV\n",
    "N -> 'bully' | 'kid' | 'school' | 'book' | 'sister' | 't' | 'Homer' | 'Marge'| 'friends' | 'work' | 'bar' | 'Lisa' | 'brother' | 'peanut' | 'butter'\n",
    "V -> 'punched' | 'gave' | 'given' | 'are' | 'drank' | 'sang' | 'told' | 'liked'\n",
    "CONJ -> 'and' | 'but'\n",
    "COMP -> 'that'\n",
    "AUX -> 'had'\n",
    "P -> 'after' | 'to' | 'from' | 'in'\n",
    "\"\"\")"
   ]
  },
  {
   "cell_type": "markdown",
   "id": "organizational-instrumentation",
   "metadata": {},
   "source": [
    "#### a. What is the start state of your grammar?"
   ]
  },
  {
   "cell_type": "code",
   "execution_count": 29,
   "id": "legislative-profession",
   "metadata": {},
   "outputs": [
    {
     "data": {
      "text/plain": [
       "S"
      ]
     },
     "execution_count": 29,
     "metadata": {},
     "output_type": "execute_result"
    }
   ],
   "source": [
    "Grammar_all.productions()[0].lhs()"
   ]
  },
  {
   "cell_type": "markdown",
   "id": "mounted-houston",
   "metadata": {},
   "source": [
    "#### b. How many CF rules are in your grammar?"
   ]
  },
  {
   "cell_type": "code",
   "execution_count": 30,
   "id": "published-fleet",
   "metadata": {},
   "outputs": [
    {
     "data": {
      "text/plain": [
       "71"
      ]
     },
     "execution_count": 30,
     "metadata": {},
     "output_type": "execute_result"
    }
   ],
   "source": [
    "len(Grammar_all.productions())"
   ]
  },
  {
   "cell_type": "markdown",
   "id": "independent-costs",
   "metadata": {},
   "source": [
    "#### c. How many of them are lexical?"
   ]
  },
  {
   "cell_type": "code",
   "execution_count": 31,
   "id": "invisible-paris",
   "metadata": {},
   "outputs": [
    {
     "name": "stdout",
     "output_type": "stream",
     "text": [
      "How many of them are lexical?   45\n"
     ]
    }
   ],
   "source": [
    "n=0\n",
    "for x in Grammar_all.productions():\n",
    "    if x.is_lexical():\n",
    "        n = n+1\n",
    "print(\"How many of them are lexical?  \",n)"
   ]
  },
  {
   "cell_type": "markdown",
   "id": "rapid-colonial",
   "metadata": {},
   "source": [
    "#### d. How many VP rules are there? That is, how many rules have 'VP' on the left-hand side of the rule? That is, how many rules are of the VP -> ... form?"
   ]
  },
  {
   "cell_type": "code",
   "execution_count": 32,
   "id": "transsexual-compression",
   "metadata": {},
   "outputs": [
    {
     "data": {
      "text/plain": [
       "9"
      ]
     },
     "execution_count": 32,
     "metadata": {},
     "output_type": "execute_result"
    }
   ],
   "source": [
    "n=0\n",
    "for x in Grammar_all.productions():\n",
    "    if x.lhs().symbol() == 'VP':\n",
    "        n = n+1\n",
    "n        "
   ]
  },
  {
   "cell_type": "markdown",
   "id": "otherwise-george",
   "metadata": {},
   "source": [
    "#### e. How many V rules are there? That is, how many rules have 'V' on the left-hand side of the fule? That is, how many rules are of the V -> ... form?"
   ]
  },
  {
   "cell_type": "code",
   "execution_count": 33,
   "id": "ignored-hampshire",
   "metadata": {},
   "outputs": [
    {
     "data": {
      "text/plain": [
       "8"
      ]
     },
     "execution_count": 33,
     "metadata": {},
     "output_type": "execute_result"
    }
   ],
   "source": [
    "n=0\n",
    "for x in Grammar_all.productions():\n",
    "    if x.lhs().symbol() == 'V':\n",
    "        n = n+1\n",
    "n        "
   ]
  },
  {
   "cell_type": "markdown",
   "id": "responsible-procurement",
   "metadata": {},
   "source": [
    "#### 4.Using grammar1, build a chart parser."
   ]
  },
  {
   "cell_type": "code",
   "execution_count": 34,
   "id": "minimal-devon",
   "metadata": {},
   "outputs": [],
   "source": [
    "Grammar_1 = nltk.CFG.fromstring(\"\"\"\n",
    "S -> NP VP | NP VP \n",
    "NP -> N | Det N | PRO | N N \n",
    "VP -> V NP CP | VP ADVP | V NP \n",
    "ADVP -> ADV ADV \n",
    "CP -> COMP S \n",
    "N -> 'Lisa' | 'brother' | 'peanut' | 'butter'    \n",
    "V -> 'told' | 'liked'  \n",
    "COMP -> 'that' \n",
    "Det -> 'her' \n",
    "PRO -> 'she' \n",
    "ADV -> 'very' | 'much'\n",
    "\n",
    "S -> NP VP \n",
    "NP -> NP CONJ NP | N | NP PP | Det N | N | Det N \n",
    "VP -> VP PP | VP CONJ VP | V | V \n",
    "PP -> P NP | P NP \n",
    "N -> 'Homer' | 'friends' | 'work' | 'bar'   \n",
    "V -> 'drank' | 'sang'  \n",
    "CONJ -> 'and' | 'and'\n",
    "Det -> 'his' | 'the'\n",
    "P -> 'from' | 'in'\n",
    "\n",
    "S -> NP VP \n",
    "NP -> NP CONJ NP | N | N \n",
    "VP -> V ADJP \n",
    "ADJP -> ADJP CONJ ADJP | ADJ | ADV ADJ \n",
    "N -> 'Homer' | 'Marge'  \n",
    "V -> 'are'   \n",
    "CONJ -> 'and' | 'but'\n",
    "ADJ -> 'poor' | 'happy'\n",
    "ADV -> 'very'\n",
    "\n",
    "S -> NP VP | NP AUX VP \n",
    "NP -> PRO | NP CP | Det N | PRO | PRO | PRO | N |Det N\n",
    "VP -> V NP PP | V NP NP\n",
    "CP -> COMP S\n",
    "PP -> P NP \n",
    "Det -> 'the' | 'his' \n",
    "PRO -> 'he' | 'I' | 'him' \n",
    "N -> 'book' | 't' | 'sister'  \n",
    "V -> 'gave' | 'given'  \n",
    "COMP -> 'that'\n",
    "AUX -> 'had' \n",
    "P -> 'to'\n",
    "\n",
    "S -> NP VP\n",
    "NP -> PRO | Det N | Det N\n",
    "VP -> V NP PP\n",
    "PP -> P NP \n",
    "Det -> 'the' | 'his'\n",
    "PRO -> 'he' \n",
    "N -> 'book' | 'sister' \n",
    "V -> 'gave' \n",
    "P -> 'to'\n",
    "\n",
    "S -> NP VP\n",
    "NP -> Det ADJ N | Det ADJ ADJ N | N\n",
    "VP -> V NP|VP PP\n",
    "PP -> P NP \n",
    "Det -> 'the' | 'the'\n",
    "ADJ -> 'big' | 'tiny' | 'nerdy'\n",
    "N -> 'bully' | 'kid' | 'school'\n",
    "V -> 'punched'\n",
    "P -> 'after'\n",
    "\"\"\")"
   ]
  },
  {
   "cell_type": "code",
   "execution_count": 35,
   "id": "alien-fossil",
   "metadata": {},
   "outputs": [
    {
     "name": "stdout",
     "output_type": "stream",
     "text": [
      "(S\n",
      "  (NP\n",
      "    (NP (NP (N Homer)) (CONJ and) (NP (Det his) (N friends)))\n",
      "    (PP (P from) (NP (N work))))\n",
      "  (VP\n",
      "    (VP (VP (V drank)) (CONJ and) (VP (V sang)))\n",
      "    (PP (P in) (NP (Det the) (N bar)))))\n",
      "(S\n",
      "  (NP\n",
      "    (NP (N Homer))\n",
      "    (CONJ and)\n",
      "    (NP (NP (Det his) (N friends)) (PP (P from) (NP (N work)))))\n",
      "  (VP\n",
      "    (VP (VP (V drank)) (CONJ and) (VP (V sang)))\n",
      "    (PP (P in) (NP (Det the) (N bar)))))\n",
      "(S\n",
      "  (NP\n",
      "    (NP (NP (N Homer)) (CONJ and) (NP (Det his) (N friends)))\n",
      "    (PP (P from) (NP (N work))))\n",
      "  (VP\n",
      "    (VP (V drank))\n",
      "    (CONJ and)\n",
      "    (VP (VP (V sang)) (PP (P in) (NP (Det the) (N bar))))))\n",
      "(S\n",
      "  (NP\n",
      "    (NP (N Homer))\n",
      "    (CONJ and)\n",
      "    (NP (NP (Det his) (N friends)) (PP (P from) (NP (N work)))))\n",
      "  (VP\n",
      "    (VP (V drank))\n",
      "    (CONJ and)\n",
      "    (VP (VP (V sang)) (PP (P in) (NP (Det the) (N bar))))))\n"
     ]
    }
   ],
   "source": [
    "sent = word_tokenize(\"Homer and his friends from work drank and sang in the bar\")\n",
    "parser = nltk.ChartParser(Grammar_1)\n",
    "for i in parser.parse(sent):\n",
    "    print(i)"
   ]
  },
  {
   "cell_type": "code",
   "execution_count": 36,
   "id": "preliminary-century",
   "metadata": {},
   "outputs": [
    {
     "name": "stdout",
     "output_type": "stream",
     "text": [
      "     S                                       \n",
      "  ___|______________                          \n",
      " |                  VP                       \n",
      " |         _________|__________               \n",
      " |        VP                   PP            \n",
      " |    ____|___              ___|___           \n",
      " |   |        NP           |       NP        \n",
      " |   |     ___|_____       |    ___|_____     \n",
      " NP  V   Det        N      P  Det        N   \n",
      " |   |    |         |      |   |         |    \n",
      " I  shot  an     elephant  in  my     pajamas\n",
      "\n"
     ]
    }
   ],
   "source": [
    "np =nltk.Tree.fromstring('(S(NP I)(VP(VP (V shot) (NP (Det an) (N elephant)))(PP (P in) (NP (Det my) (N pajamas)))))')\n",
    "np.pretty_print()"
   ]
  },
  {
   "cell_type": "code",
   "execution_count": 37,
   "id": "amazing-faith",
   "metadata": {},
   "outputs": [
    {
     "name": "stdout",
     "output_type": "stream",
     "text": [
      "     S                                   \n",
      "  ___|__________                          \n",
      " |              VP                       \n",
      " |    __________|______                   \n",
      " |   |                 NP                \n",
      " |   |     ____________|___               \n",
      " |   |    |     |          PP            \n",
      " |   |    |     |       ___|___           \n",
      " |   |    |     |      |       NP        \n",
      " |   |    |     |      |    ___|_____     \n",
      " NP  V   Det    N      P  Det        N   \n",
      " |   |    |     |      |   |         |    \n",
      " I  shot  an elephant  in  my     pajamas\n",
      "\n"
     ]
    }
   ],
   "source": [
    "np =nltk.Tree.fromstring('(S(NP I)(VP(V shot)(NP (Det an) (N elephant) (PP (P in) (NP (Det my) (N pajamas))))))')\n",
    "np.pretty_print()"
   ]
  },
  {
   "cell_type": "markdown",
   "id": "intense-protocol",
   "metadata": {},
   "source": [
    "#### 5. Using the parser, parse the sentences s6 -- s11. If your grammar1 is built correctly to cover all of the sentences, the parser should successfully parse all of them."
   ]
  },
  {
   "cell_type": "code",
   "execution_count": 38,
   "id": "breathing-blogger",
   "metadata": {
    "scrolled": false
   },
   "outputs": [
    {
     "name": "stdout",
     "output_type": "stream",
     "text": [
      "         (s6):the big bully punched the tiny nerdy kid after school\n",
      "\n",
      "\n",
      "(S\n",
      "  (NP (Det the) (ADJ big) (N bully))\n",
      "  (VP\n",
      "    (VP (V punched) (NP (Det the) (ADJ tiny) (ADJ nerdy) (N kid)))\n",
      "    (PP (P after) (NP (N school)))))\n",
      "(S\n",
      "  (NP (Det the) (ADJ big) (N bully))\n",
      "  (VP\n",
      "    (V punched)\n",
      "    (NP (Det the) (ADJ tiny) (ADJ nerdy) (N kid))\n",
      "    (PP (P after) (NP (N school)))))\n",
      "(S\n",
      "  (NP (Det the) (ADJ big) (N bully))\n",
      "  (VP\n",
      "    (V punched)\n",
      "    (NP\n",
      "      (NP (Det the) (ADJ tiny) (ADJ nerdy) (N kid))\n",
      "      (PP (P after) (NP (N school))))))\n",
      "***************************************************************************\n",
      "\n",
      "\n",
      "         (s7):he gave the book to his sister\n",
      "\n",
      "\n",
      "(S\n",
      "  (NP (PRO he))\n",
      "  (VP\n",
      "    (VP (V gave) (NP (Det the) (N book)))\n",
      "    (PP (P to) (NP (Det his) (N sister)))))\n",
      "(S\n",
      "  (NP (PRO he))\n",
      "  (VP\n",
      "    (V gave)\n",
      "    (NP (Det the) (N book))\n",
      "    (PP (P to) (NP (Det his) (N sister)))))\n",
      "(S\n",
      "  (NP (PRO he))\n",
      "  (VP\n",
      "    (V gave)\n",
      "    (NP\n",
      "      (NP (Det the) (N book))\n",
      "      (PP (P to) (NP (Det his) (N sister))))))\n",
      "****************************************************************************\n",
      "\n",
      "\n",
      "         (s8):he gave the book that I had given him t to his sister\n",
      "\n",
      "\n",
      "(S\n",
      "  (NP (PRO he))\n",
      "  (VP\n",
      "    (V gave)\n",
      "    (NP\n",
      "      (NP (Det the) (N book))\n",
      "      (CP\n",
      "        (COMP that)\n",
      "        (S\n",
      "          (NP (PRO I))\n",
      "          (AUX had)\n",
      "          (VP (V given) (NP (PRO him)) (NP (N t))))))\n",
      "    (PP (P to) (NP (Det his) (N sister)))))\n",
      "(S\n",
      "  (NP (PRO he))\n",
      "  (VP\n",
      "    (V gave)\n",
      "    (NP\n",
      "      (NP\n",
      "        (NP (Det the) (N book))\n",
      "        (CP\n",
      "          (COMP that)\n",
      "          (S\n",
      "            (NP (PRO I))\n",
      "            (AUX had)\n",
      "            (VP (V given) (NP (PRO him)) (NP (N t))))))\n",
      "      (PP (P to) (NP (Det his) (N sister))))))\n",
      "(S\n",
      "  (NP (PRO he))\n",
      "  (VP\n",
      "    (V gave)\n",
      "    (NP\n",
      "      (NP (Det the) (N book))\n",
      "      (CP\n",
      "        (COMP that)\n",
      "        (S\n",
      "          (NP (PRO I))\n",
      "          (AUX had)\n",
      "          (VP\n",
      "            (VP (V given) (NP (PRO him)) (NP (N t)))\n",
      "            (PP (P to) (NP (Det his) (N sister)))))))))\n",
      "(S\n",
      "  (NP (PRO he))\n",
      "  (VP\n",
      "    (V gave)\n",
      "    (NP\n",
      "      (NP (Det the) (N book))\n",
      "      (CP\n",
      "        (COMP that)\n",
      "        (S\n",
      "          (NP (PRO I))\n",
      "          (AUX had)\n",
      "          (VP\n",
      "            (V given)\n",
      "            (NP (PRO him))\n",
      "            (NP (NP (N t)) (PP (P to) (NP (Det his) (N sister))))))))))\n",
      "(S\n",
      "  (NP (PRO he))\n",
      "  (VP\n",
      "    (V gave)\n",
      "    (NP (Det the) (N book))\n",
      "    (CP\n",
      "      (COMP that)\n",
      "      (S\n",
      "        (NP (PRO I))\n",
      "        (AUX had)\n",
      "        (VP\n",
      "          (VP (V given) (NP (PRO him)) (NP (N t)))\n",
      "          (PP (P to) (NP (Det his) (N sister))))))))\n",
      "(S\n",
      "  (NP (PRO he))\n",
      "  (VP\n",
      "    (V gave)\n",
      "    (NP (Det the) (N book))\n",
      "    (CP\n",
      "      (COMP that)\n",
      "      (S\n",
      "        (NP (PRO I))\n",
      "        (AUX had)\n",
      "        (VP\n",
      "          (V given)\n",
      "          (NP (PRO him))\n",
      "          (NP (NP (N t)) (PP (P to) (NP (Det his) (N sister)))))))))\n",
      "(S\n",
      "  (NP (PRO he))\n",
      "  (VP\n",
      "    (VP\n",
      "      (V gave)\n",
      "      (NP\n",
      "        (NP (Det the) (N book))\n",
      "        (CP\n",
      "          (COMP that)\n",
      "          (S (NP (PRO I)) (AUX had) (VP (V given) (NP (PRO him))))))\n",
      "      (NP (N t)))\n",
      "    (PP (P to) (NP (Det his) (N sister)))))\n",
      "(S\n",
      "  (NP (PRO he))\n",
      "  (VP\n",
      "    (VP\n",
      "      (V gave)\n",
      "      (NP (Det the) (N book))\n",
      "      (CP\n",
      "        (COMP that)\n",
      "        (S\n",
      "          (NP (PRO I))\n",
      "          (AUX had)\n",
      "          (VP (V given) (NP (PRO him)) (NP (N t))))))\n",
      "    (PP (P to) (NP (Det his) (N sister)))))\n",
      "(S\n",
      "  (NP (PRO he))\n",
      "  (VP\n",
      "    (VP\n",
      "      (V gave)\n",
      "      (NP\n",
      "        (NP (Det the) (N book))\n",
      "        (CP\n",
      "          (COMP that)\n",
      "          (S\n",
      "            (NP (PRO I))\n",
      "            (AUX had)\n",
      "            (VP (V given) (NP (PRO him)) (NP (N t)))))))\n",
      "    (PP (P to) (NP (Det his) (N sister)))))\n",
      "(S\n",
      "  (NP (PRO he))\n",
      "  (VP\n",
      "    (V gave)\n",
      "    (NP\n",
      "      (NP (Det the) (N book))\n",
      "      (CP\n",
      "        (COMP that)\n",
      "        (S (NP (PRO I)) (AUX had) (VP (V given) (NP (PRO him))))))\n",
      "    (NP (NP (N t)) (PP (P to) (NP (Det his) (N sister))))))\n",
      "****************************************************************************\n",
      "\n",
      "\n",
      "         (s9):Homer and Marge are poor but very happy\n",
      "\n",
      "\n",
      "(S\n",
      "  (NP (NP (N Homer)) (CONJ and) (NP (N Marge)))\n",
      "  (VP\n",
      "    (V are)\n",
      "    (ADJP (ADJP (ADJ poor)) (CONJ but) (ADJP (ADV very) (ADJ happy)))))\n",
      "*****************************************************************************\n",
      "\n",
      "\n",
      "         (s10):Homer and his friends from work drank and sang in the bar\n",
      "\n",
      "\n",
      "(S\n",
      "  (NP\n",
      "    (NP (NP (N Homer)) (CONJ and) (NP (Det his) (N friends)))\n",
      "    (PP (P from) (NP (N work))))\n",
      "  (VP\n",
      "    (VP (VP (V drank)) (CONJ and) (VP (V sang)))\n",
      "    (PP (P in) (NP (Det the) (N bar)))))\n",
      "(S\n",
      "  (NP\n",
      "    (NP (N Homer))\n",
      "    (CONJ and)\n",
      "    (NP (NP (Det his) (N friends)) (PP (P from) (NP (N work)))))\n",
      "  (VP\n",
      "    (VP (VP (V drank)) (CONJ and) (VP (V sang)))\n",
      "    (PP (P in) (NP (Det the) (N bar)))))\n",
      "(S\n",
      "  (NP\n",
      "    (NP (NP (N Homer)) (CONJ and) (NP (Det his) (N friends)))\n",
      "    (PP (P from) (NP (N work))))\n",
      "  (VP\n",
      "    (VP (V drank))\n",
      "    (CONJ and)\n",
      "    (VP (VP (V sang)) (PP (P in) (NP (Det the) (N bar))))))\n",
      "(S\n",
      "  (NP\n",
      "    (NP (N Homer))\n",
      "    (CONJ and)\n",
      "    (NP (NP (Det his) (N friends)) (PP (P from) (NP (N work)))))\n",
      "  (VP\n",
      "    (VP (V drank))\n",
      "    (CONJ and)\n",
      "    (VP (VP (V sang)) (PP (P in) (NP (Det the) (N bar))))))\n",
      "*******************************************************************************\n",
      "\n",
      "\n",
      "         (s11):Lisa told her brother that she liked peanut butter very much\n",
      "\n",
      "\n",
      "(S\n",
      "  (NP (N Lisa))\n",
      "  (VP\n",
      "    (V told)\n",
      "    (NP (Det her) (N brother))\n",
      "    (CP\n",
      "      (COMP that)\n",
      "      (S\n",
      "        (NP (PRO she))\n",
      "        (VP\n",
      "          (VP (V liked) (NP (N peanut) (N butter)))\n",
      "          (ADVP (ADV very) (ADV much)))))))\n",
      "(S\n",
      "  (NP (N Lisa))\n",
      "  (VP\n",
      "    (V told)\n",
      "    (NP (Det her) (N brother))\n",
      "    (CP\n",
      "      (COMP that)\n",
      "      (S\n",
      "        (NP (PRO she))\n",
      "        (VP\n",
      "          (VP (V liked) (NP (N peanut)) (NP (N butter)))\n",
      "          (ADVP (ADV very) (ADV much)))))))\n",
      "(S\n",
      "  (NP (N Lisa))\n",
      "  (VP\n",
      "    (V told)\n",
      "    (NP\n",
      "      (NP (Det her) (N brother))\n",
      "      (CP\n",
      "        (COMP that)\n",
      "        (S\n",
      "          (NP (PRO she))\n",
      "          (VP\n",
      "            (VP (V liked) (NP (N peanut) (N butter)))\n",
      "            (ADVP (ADV very) (ADV much))))))))\n",
      "(S\n",
      "  (NP (N Lisa))\n",
      "  (VP\n",
      "    (V told)\n",
      "    (NP\n",
      "      (NP (Det her) (N brother))\n",
      "      (CP\n",
      "        (COMP that)\n",
      "        (S\n",
      "          (NP (PRO she))\n",
      "          (VP\n",
      "            (VP (V liked) (NP (N peanut)) (NP (N butter)))\n",
      "            (ADVP (ADV very) (ADV much))))))))\n",
      "(S\n",
      "  (NP (N Lisa))\n",
      "  (VP\n",
      "    (VP\n",
      "      (V told)\n",
      "      (NP\n",
      "        (NP (Det her) (N brother))\n",
      "        (CP (COMP that) (S (NP (PRO she)) (VP (V liked)))))\n",
      "      (NP (N peanut) (N butter)))\n",
      "    (ADVP (ADV very) (ADV much))))\n",
      "(S\n",
      "  (NP (N Lisa))\n",
      "  (VP\n",
      "    (VP\n",
      "      (V told)\n",
      "      (NP\n",
      "        (NP (Det her) (N brother))\n",
      "        (CP\n",
      "          (COMP that)\n",
      "          (S (NP (PRO she)) (VP (V liked) (NP (N peanut))))))\n",
      "      (NP (N butter)))\n",
      "    (ADVP (ADV very) (ADV much))))\n",
      "(S\n",
      "  (NP (N Lisa))\n",
      "  (VP\n",
      "    (VP\n",
      "      (V told)\n",
      "      (NP (Det her) (N brother))\n",
      "      (CP\n",
      "        (COMP that)\n",
      "        (S (NP (PRO she)) (VP (V liked) (NP (N peanut) (N butter))))))\n",
      "    (ADVP (ADV very) (ADV much))))\n",
      "(S\n",
      "  (NP (N Lisa))\n",
      "  (VP\n",
      "    (VP\n",
      "      (V told)\n",
      "      (NP (Det her) (N brother))\n",
      "      (CP\n",
      "        (COMP that)\n",
      "        (S\n",
      "          (NP (PRO she))\n",
      "          (VP (V liked) (NP (N peanut)) (NP (N butter))))))\n",
      "    (ADVP (ADV very) (ADV much))))\n",
      "(S\n",
      "  (NP (N Lisa))\n",
      "  (VP\n",
      "    (VP\n",
      "      (V told)\n",
      "      (NP\n",
      "        (NP (Det her) (N brother))\n",
      "        (CP\n",
      "          (COMP that)\n",
      "          (S\n",
      "            (NP (PRO she))\n",
      "            (VP (V liked) (NP (N peanut) (N butter)))))))\n",
      "    (ADVP (ADV very) (ADV much))))\n",
      "(S\n",
      "  (NP (N Lisa))\n",
      "  (VP\n",
      "    (VP\n",
      "      (V told)\n",
      "      (NP\n",
      "        (NP (Det her) (N brother))\n",
      "        (CP\n",
      "          (COMP that)\n",
      "          (S\n",
      "            (NP (PRO she))\n",
      "            (VP (V liked) (NP (N peanut)) (NP (N butter)))))))\n",
      "    (ADVP (ADV very) (ADV much))))\n"
     ]
    }
   ],
   "source": [
    "print(\"         (s6):the big bully punched the tiny nerdy kid after school\")\n",
    "print(\"\\n\")\n",
    "s6 = word_tokenize(\"the big bully punched the tiny nerdy kid after school\")\n",
    "parser = nltk.ChartParser(Grammar_1)\n",
    "for i in parser.parse(s6):\n",
    "    print(i)\n",
    "\n",
    "print(\"***************************************************************************\")\n",
    "print(\"\\n\")\n",
    "print(\"         (s7):he gave the book to his sister\")\n",
    "print(\"\\n\")\n",
    "s7 = word_tokenize(\"he gave the book to his sister\")\n",
    "parser = nltk.ChartParser(Grammar_1)\n",
    "for i in parser.parse(s7):\n",
    "    print(i)\n",
    "\n",
    "print(\"****************************************************************************\")\n",
    "print(\"\\n\")\n",
    "print(\"         (s8):he gave the book that I had given him t to his sister\")\n",
    "print(\"\\n\")\n",
    "s8 = word_tokenize(\"he gave the book that I had given him t to his sister\")\n",
    "parser = nltk.ChartParser(Grammar_1)\n",
    "for i in parser.parse(s8):\n",
    "    print(i)\n",
    "\n",
    "print(\"****************************************************************************\")\n",
    "print(\"\\n\")\n",
    "print(\"         (s9):Homer and Marge are poor but very happy\")\n",
    "print(\"\\n\")\n",
    "s9 = word_tokenize(\"Homer and Marge are poor but very happy\")\n",
    "parser = nltk.ChartParser(Grammar_1)\n",
    "for i in parser.parse(s9):\n",
    "    print(i)\n",
    "\n",
    "print(\"*****************************************************************************\")\n",
    "print(\"\\n\")\n",
    "print(\"         (s10):Homer and his friends from work drank and sang in the bar\")\n",
    "print(\"\\n\")\n",
    "s10 = word_tokenize(\"Homer and his friends from work drank and sang in the bar\")\n",
    "parser = nltk.ChartParser(Grammar_1)\n",
    "for i in parser.parse(s10):\n",
    "    print(i) \n",
    "      \n",
    "print(\"*******************************************************************************\")\n",
    "print(\"\\n\")\n",
    "print(\"         (s11):Lisa told her brother that she liked peanut butter very much\")\n",
    "print(\"\\n\")\n",
    "s11 = word_tokenize(\"Lisa told her brother that she liked peanut butter very much\")\n",
    "parser = nltk.ChartParser(Grammar_1)\n",
    "for i in parser.parse(s11):\n",
    "    print(i)"
   ]
  }
 ],
 "metadata": {
  "kernelspec": {
   "display_name": "Python 3",
   "language": "python",
   "name": "python3"
  },
  "language_info": {
   "codemirror_mode": {
    "name": "ipython",
    "version": 3
   },
   "file_extension": ".py",
   "mimetype": "text/x-python",
   "name": "python",
   "nbconvert_exporter": "python",
   "pygments_lexer": "ipython3",
   "version": "3.9.1"
  }
 },
 "nbformat": 4,
 "nbformat_minor": 5
}
